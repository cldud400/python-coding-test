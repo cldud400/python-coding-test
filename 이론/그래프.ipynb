{
 "cells": [
  {
   "cell_type": "markdown",
   "metadata": {
    "id": "KkKB73Pnd8UW"
   },
   "source": [
    "# 그래프의 표현\n",
    "- 1. 인접 행렬\n",
    "  - N X N 리스트를 만들어서 edge가 있으면 1 없으면 0\n",
    "  - 불필요한 공간 사용이 많아진다\n",
    "- 2. 인접 리스트\n",
    "  - 0 : 4\n",
    "  - 1 : 7\n",
    "  - 2 : 4,5,7\n",
    "  - dict를 사용하자\n",
    "  - ...\n",
    "- 3. edge 리스트 (간선 리스트)\n",
    "  - (1,7)\n",
    "  - (2,7)"
   ]
  },
  {
   "cell_type": "markdown",
   "metadata": {
    "id": "9yMA7X2-d-4a"
   },
   "source": [
    "## ABCDE(13023)\n",
    "- A -> B\n",
    "- C -> B\n",
    "  - 간선 리스트로 찾기\n",
    "- B -> C\n",
    "  - 인접 행렬로 찾기\n",
    "- D -> E\n",
    "  - 인접 리스트로 확인"
   ]
  },
  {
   "cell_type": "code",
   "execution_count": null,
   "metadata": {
    "id": "cVoKGRNLdb7U"
   },
   "outputs": [],
   "source": [
    "import sys\n",
    "\n",
    "n, m = map(int,input().split())\n",
    "edge = []                                   # 간선 리스트\n",
    "arr = [[0] * n for _ in range(n)]           # 인접 행렬\n",
    "al = [[] for _ in range(n)]                 # 인접 리스트\n",
    "\n",
    "\n",
    "for _ in range(m):\n",
    "  i, j = map(int,input().split())\n",
    "  # 인접 행렬\n",
    "  arr[i][j], arr[j][i] = 1, 1\n",
    "  # 간선 리스트\n",
    "  edge.append([i,j])\n",
    "  edge.append([j,i])\n",
    "  # 인접 리스트\n",
    "  al[i].append(j)\n",
    "  al[j].append(i)\n",
    "\n",
    "# 양방향 edge이기 때문에 두번 확인한다\n",
    "m *= 2\n",
    "for i in range(m):\n",
    "  for j in range(m):\n",
    "    A,B = edge[i]\n",
    "    C,D = edge[j]\n",
    "    # 두 값이 같으면 안된다 (중복이 안됨)\n",
    "    if A == B or A == C or A == D or B == C or B == D or C == D:\n",
    "      continue\n",
    "\n",
    "    # B -> C\n",
    "    if arr[B][C] == 0:\n",
    "      continue\n",
    "\n",
    "    # D -> E\n",
    "    for E in al[D]:\n",
    "      if A == E or B == E or C == E or D == E:\n",
    "        continue\n",
    "      print(1)\n",
    "      sys.exit(0)\n",
    "print(0)"
   ]
  },
  {
   "cell_type": "markdown",
   "metadata": {
    "id": "pTlj3VJPqWkc"
   },
   "source": [
    "# 그래프의 탐색\n",
    "- BFS : 너비 우선 탐색\n",
    "  - que사용\n",
    "- DFS : 깊이 우선 탐색\n",
    "  - stack이나 재귀를 샤용"
   ]
  },
  {
   "cell_type": "markdown",
   "metadata": {
    "id": "z3afctNzqgLB"
   },
   "source": [
    "## DFS와 BFS(1260)"
   ]
  },
  {
   "cell_type": "markdown",
   "metadata": {
    "id": "UM45MpIQvjMa"
   },
   "source": [
    "### DFS(Depth First Search)\n"
   ]
  },
  {
   "cell_type": "markdown",
   "metadata": {
    "id": "nES_ZIRR224V"
   },
   "source": [
    "재귀를 사용"
   ]
  },
  {
   "cell_type": "code",
   "execution_count": null,
   "metadata": {
    "colab": {
     "base_uri": "https://localhost:8080/"
    },
    "executionInfo": {
     "elapsed": 2540,
     "status": "ok",
     "timestamp": 1622704075252,
     "user": {
      "displayName": "반치영",
      "photoUrl": "",
      "userId": "02232750095748228317"
     },
     "user_tz": -540
    },
    "id": "8HEiP6GPn7uF",
    "outputId": "e06d9523-0a94-40a4-8987-ee37d077f6f6"
   },
   "outputs": [
    {
     "name": "stdout",
     "output_type": "stream",
     "text": [
      "1 2 4 3\n"
     ]
    }
   ],
   "source": [
    "import sys\n",
    "from collections import deque\n",
    "from collections import defaultdict\n",
    "n, m, v = map(int,sys.stdin.readline().split())\n",
    "\n",
    "# 인접 행렬을 이용한 DFS\n",
    "arr = [[0] * (n+1) for _ in range(n+1)]\n",
    "\n",
    "# 인접 리스트를 이용한 DFS\n",
    "al = defaultdict(list)\n",
    "\n",
    "\n",
    "check = [False] * (n+1)\n",
    "\n",
    "for _ in range(m):\n",
    "    i, j = map(int, sys.stdin.readline().split())\n",
    "    # 인접 행렬\n",
    "    arr[i][j] = arr[j][i] = 1\n",
    "\n",
    "    # 인접 리스트\n",
    "    al[i].append(j)\n",
    "    al[j].append(i)\n",
    "\n",
    "#인접 리스트을 정렬 해준다.\n",
    "for i in range(n):\n",
    "    al[i].sort()\n",
    "\n",
    "# 재귀를 사용\n",
    "# 인접 행렬\n",
    "def dfs(x):\n",
    "    check[x] = True\n",
    "    print(x, end = ' ')\n",
    "    for i in range(1, n+1):\n",
    "        if arr[x][i] == 1 and check[i] == False:\n",
    "            dfs(i)\n",
    "\n",
    "# 인접 리스트\n",
    "def dfs(x):\n",
    "    check[x] = True\n",
    "    print(x, end = ' ')\n",
    "    for i in al[x]:\n",
    "        if check[i] == False:\n",
    "            dfs(i)"
   ]
  },
  {
   "cell_type": "markdown",
   "metadata": {
    "id": "vvIiXANI24U7"
   },
   "source": [
    "stack을 사용"
   ]
  },
  {
   "cell_type": "code",
   "execution_count": null,
   "metadata": {
    "id": "fQdJTdAZszWc"
   },
   "outputs": [],
   "source": [
    "import sys\n",
    "from collections import deque\n",
    "from collections import defaultdict\n",
    "n, m, v = map(int,sys.stdin.readline().split())\n",
    "\n",
    "# 인접 행렬을 이용한 DFS\n",
    "arr = [[0] * (n+1) for _ in range(n+1)]\n",
    "\n",
    "# 인접 리스트를 이용한 DFS\n",
    "al = defaultdict(list)\n",
    "\n",
    "\n",
    "check = [False] * (n+1)\n",
    "\n",
    "for _ in range(m):\n",
    "    i, j = map(int, sys.stdin.readline().split())\n",
    "    # 인접 행렬\n",
    "    arr[i][j] = arr[j][i] = 1\n",
    "\n",
    "    # 인접 리스트\n",
    "    al[i].append(j)\n",
    "    al[j].append(i)\n",
    "\n",
    "# stack를 사용\n",
    "# 인접 행렬\n",
    "def dfs(start):\n",
    "    check = [False] * (n+1)\n",
    "    stack = deque()\n",
    "\n",
    "    stack.append(start)\n",
    "    check[start] = True\n",
    "    while stack:\n",
    "        x = stack.pop()\n",
    "        print(x, end = ' ')\n",
    "        for i in range(n, -2, -1):\n",
    "            if arr[x][i] == 1 and check[i] == False:\n",
    "                check[i] = True\n",
    "                stack.append(i)\n",
    "\n",
    "\n",
    "# 인접 리스트\n",
    "def dfs(start):\n",
    "    check = [False] * (n+1)\n",
    "    stack = deque()\n",
    "\n",
    "    stack.append(start)\n",
    "    check[start] = True\n",
    "    while stack:\n",
    "        x = stack.pop()\n",
    "        print(x, end = ' ')\n",
    "        for i in al[x]:\n",
    "            if check[i] == False:\n",
    "                check[i] = True\n",
    "                stack.append(i)\n",
    "\n",
    "dfs(v)"
   ]
  },
  {
   "cell_type": "markdown",
   "metadata": {
    "id": "Eku0vJzz6Whm"
   },
   "source": [
    "###BFS(Breadth First Search)"
   ]
  },
  {
   "cell_type": "markdown",
   "metadata": {
    "id": "MC48Pf0970wD"
   },
   "source": [
    "queue를 사용"
   ]
  },
  {
   "cell_type": "code",
   "execution_count": null,
   "metadata": {
    "id": "WHpGGR246cYM"
   },
   "outputs": [],
   "source": [
    "import sys\n",
    "from collections import deque\n",
    "from collections import defaultdict\n",
    "n, m, v = map(int,sys.stdin.readline().split())\n",
    "\n",
    "# 인접 행렬을 이용한 BFS\n",
    "arr = [[0] * (n+1) for _ in range(n+1)]\n",
    "\n",
    "# 인접 리스트를 이용한 BFS\n",
    "al = defaultdict(list)\n",
    "\n",
    "check = [False] * (n+1)\n",
    "\n",
    "for _ in range(m):\n",
    "    i, j = map(int, sys.stdin.readline().split())\n",
    "    # 인접 행렬\n",
    "    arr[i][j] = arr[j][i] = 1\n",
    "\n",
    "    # 인접 리스트\n",
    "    al[i].append(j)\n",
    "    al[j].append(i)\n",
    "\n",
    "#인접 리스트을 정렬 해준다.\n",
    "for i in range(n):\n",
    "    al[i].sort()\n",
    "\n",
    "\n",
    "# 인접 행렬\n",
    "def bfs(start):\n",
    "    queue = deque()\n",
    "    queue.append(start)\n",
    "    check[start] = True\n",
    "    while queue:\n",
    "        x = queue.popleft()\n",
    "        print(x, end = ' ')\n",
    "        for i in range(1, n+1):\n",
    "            if arr[x][i] == 1 and check[i] == False:\n",
    "                check[i] = True\n",
    "                queue.append(i)\n",
    "\n",
    "# # 인접 리스트\n",
    "# def bfs(start):\n",
    "#     queue = deque()\n",
    "#     queue.append(start)\n",
    "#     check[start] = True\n",
    "#     while queue:\n",
    "#         x = queue.popleft()\n",
    "#         print(x, end = ' ')\n",
    "#         for i in al[x]:\n",
    "#             if check[i] == False:\n",
    "#                 check[i] = True\n",
    "#                 queue.append(i)\n",
    "\n",
    "\n",
    "\n",
    "dfs(v)"
   ]
  },
  {
   "cell_type": "markdown",
   "metadata": {
    "id": "Xb_6yGwK-kpE"
   },
   "source": [
    "###정답"
   ]
  },
  {
   "cell_type": "code",
   "execution_count": null,
   "metadata": {
    "id": "SAgNe7xM-lf9"
   },
   "outputs": [],
   "source": [
    "import sys\n",
    "from collections import deque\n",
    "from collections import defaultdict\n",
    "n, m, v = map(int,sys.stdin.readline().split())\n",
    "\n",
    "# 인접 행렬을 이용한 BFS\n",
    "arr = [[0] * (n+1) for _ in range(n+1)]\n",
    "\n",
    "# 인접 리스트를 이용한 BFS\n",
    "al = defaultdict(list)\n",
    "\n",
    "check = [False] * (n+1)\n",
    "\n",
    "for _ in range(m):\n",
    "    i, j = map(int, sys.stdin.readline().split())\n",
    "    # 인접 행렬\n",
    "    arr[i][j] = arr[j][i] = 1\n",
    "\n",
    "    # 인접 리스트\n",
    "    al[i].append(j)\n",
    "    al[j].append(i)\n",
    "\n",
    "#인접 리스트을 정렬 해준다.\n",
    "for i in range(n):\n",
    "    al[i].sort()\n",
    "\n",
    "# 인접 리스트(BFS)\n",
    "def bfs(start):\n",
    "    check = [False] * (n+1)\n",
    "    queue = deque()\n",
    "    queue.append(start)\n",
    "    check[start] = True\n",
    "    while queue:\n",
    "        x = queue.popleft()\n",
    "        print(x, end = ' ')\n",
    "        for i in al[x]:\n",
    "            if check[i] == False:\n",
    "                check[i] = True\n",
    "                queue.append(i)\n",
    "                \n",
    "# 인접 리스트(DFS)\n",
    "def dfs(x):\n",
    "    check[x] = True\n",
    "    print(x, end = ' ')\n",
    "    for i in al[x]:\n",
    "        if check[i] == False:\n",
    "            dfs(i)\n",
    "                \n",
    "dfs(v)\n",
    "print()\n",
    "bfs(v)"
   ]
  },
  {
   "cell_type": "markdown",
   "metadata": {
    "id": "gvf0h3Fw-1N5"
   },
   "source": [
    "## 연결 요소(11724)\n",
    "- DFS와 BFS 탐색을 이용해서 찾을 수 있다.\n",
    "  - DFS를 이용했을 때, 한 정점에 연결 되어있는 모든 정점을 다 구할 수 있다.\n",
    "  - DFS의 시작 = 방문하지 않은 정점"
   ]
  },
  {
   "cell_type": "code",
   "execution_count": null,
   "metadata": {
    "id": "KYad9hK0-lyf"
   },
   "outputs": [],
   "source": [
    "import sys\n",
    "from collections import deque\n",
    "from collections import defaultdict\n",
    "# sys.setrecursionlimit(100000)\n",
    "n, m= map(int,sys.stdin.readline().split())\n",
    "\n",
    "# 인접 행렬을 이용한 BFS\n",
    "arr = [[0] * (n+1) for _ in range(n+1)]\n",
    "\n",
    "# 인접 리스트를 이용한 BFS\n",
    "al = defaultdict(list)\n",
    "\n",
    "\n",
    "\n",
    "for _ in range(m):\n",
    "    i, j = map(int, sys.stdin.readline().split())\n",
    "    # 인접 행렬\n",
    "    arr[i][j] = arr[j][i] = 1\n",
    "\n",
    "    # 인접 리스트\n",
    "    al[i].append(j)\n",
    "    al[j].append(i)\n",
    "\n",
    "check = [0] * (n+1)\n",
    "# 인접 리스트(DFS)\n",
    "def dfs(x):\n",
    "    check[x] = 1\n",
    "    for i in al[x]:\n",
    "        if check[i] == 0:\n",
    "            dfs(i)\n",
    "\n",
    "\n",
    "cnt = 0\n",
    "for i in range(1, n+1):\n",
    "    if not check[i]:\n",
    "        dfs(i)\n",
    "        cnt += 1\n",
    "\n",
    "print(cnt)"
   ]
  },
  {
   "cell_type": "markdown",
   "metadata": {
    "id": "12ZiOW2an-IL"
   },
   "source": [
    "## 이분 그래프(1707)\n",
    "- A와 B그룹 사이에 A그룹끼리는 연결X B그룹끼리도 연결 X\n",
    "  - A와 B 사이만 연걸\n",
    "\n",
    "- 방문한 곳이 같은 그룹이면 이분 그래프가 아니다"
   ]
  },
  {
   "cell_type": "code",
   "execution_count": null,
   "metadata": {
    "colab": {
     "base_uri": "https://localhost:8080/"
    },
    "executionInfo": {
     "elapsed": 14,
     "status": "ok",
     "timestamp": 1622786725472,
     "user": {
      "displayName": "반치영",
      "photoUrl": "",
      "userId": "02232750095748228317"
     },
     "user_tz": -540
    },
    "id": "lnDeM6cXoAuu",
    "outputId": "00558abe-9a0a-4f45-b6e9-2c8c654156a4"
   },
   "outputs": [
    {
     "data": {
      "text/plain": [
       "1"
      ]
     },
     "execution_count": 1,
     "metadata": {
      "tags": []
     },
     "output_type": "execute_result"
    }
   ],
   "source": [
    "import sys\n",
    "from collections import deque\n",
    "from collections import defaultdict\n",
    "# sys.setrecursionlimit(100000)\n",
    "t = int(sys.stdin.readline())\n",
    "\n",
    "for _ in range(t):\n",
    "    n, m= map(int,sys.stdin.readline().split())\n",
    "    al = defaultdict(list)\n",
    "\n",
    "    for _ in range(m):\n",
    "        i, j = map(int, sys.stdin.readline().split())\n",
    "\n",
    "        # 인접 리스트\n",
    "        al[i].append(j)\n",
    "        al[j].append(i)\n",
    "\n",
    "\n",
    "\n",
    "    check = [0] * (n+1)     # 0그룹, 1그룹, 2그룹\n",
    "\n",
    "    # 인접 리스트(DFS)\n",
    "    def dfs(x, g):\n",
    "        check[x] = g    # 그룹\n",
    "        for i in al[x]:\n",
    "            if not check[i]:   # 방문한 적이 없으면\n",
    "                if not dfs(i, 3-g): # 방문한 적이 없는데 다른 그룹이면 X\n",
    "                    return False\n",
    "            elif check[i] == check[x]:  # 방문한 적이 있는데 같은 그룹이면 X\n",
    "                return False\n",
    "        return True\n",
    "\n",
    "    ans = True\n",
    "    for i in range(1, n+1):\n",
    "        if not check[i]:\n",
    "            if not dfs(i, 1):\n",
    "                ans = False\n",
    "\n",
    "    print('YES' if ans else 'NO')\n"
   ]
  },
  {
   "cell_type": "markdown",
   "metadata": {
    "id": "1kVMyr8qsmAF"
   },
   "source": [
    "## 단지번호붙이기(2667)\n",
    "- 각 단지는 연결요소와 같다\n",
    "- 방문한 적이 없으면 : 0\n",
    "- 방문한 적이 있으면 : 단지 번호\n",
    "- 인접 행렬을 이용하자\n",
    " - 정점(i,j)에 대해서 (i-1,j), (i+1,j), (i,j-1), (i,j+1)"
   ]
  },
  {
   "cell_type": "code",
   "execution_count": null,
   "metadata": {
    "id": "YWdV7BsRoB70"
   },
   "outputs": [],
   "source": [
    "import sys\n",
    "from collections import deque\n",
    "# sys.setrecursionlimit(100000)\n",
    "\n",
    "di = [0, 0, 1, -1]\n",
    "dj = [1, -1, 0, 0]\n",
    "\n",
    "n = int(sys.stdin.readline())\n",
    "\n",
    "apt = [list(map(int, list(sys.stdin.readline().rstrip()))) for _ in range(n)]\n",
    "\n",
    "# 인접행렬\n",
    "arr = [[0] * n for _ in range(n)]\n",
    "\n",
    "def dfs(i, j, num): # num = 단지번호\n",
    "    arr[i][j] = num\n",
    "    for k in range(4):\n",
    "        ni, nj = i + di[k], j + dj[k]\n",
    "        if 0 <= ni < n and 0 <= nj < n:\n",
    "            if apt[ni][nj] == 1 and arr[ni][nj] == 0:   # 옆에 건물이 있는데 인접행렬이 0 이면\n",
    "                dfs(ni,nj,num) # 인접 행렬을 1로 바꾸고 좌표를 옮긴다\n",
    "\n",
    "\n",
    "num = 0\n",
    "for i in range(n):\n",
    "    for j in range(n):\n",
    "        if apt[i][j] == 1 and arr[i][j] == 0:\n",
    "            num += 1\n",
    "            dfs(i,j,num)        # 단지 하나를 순회하고 num += 1\n",
    "            \n",
    "\n",
    "\n",
    "cnt = [0] * (num+1)\n",
    "for i in range(n):\n",
    "    for j in range(n):\n",
    "        for k in range(1, num+1):\n",
    "            if arr[i][j] == k:\n",
    "                cnt[k] += 1\n",
    "\n",
    "print(num)\n",
    "print(*sorted(cnt[1:]), sep = '\\n')\n",
    "\n",
    "\n",
    "\n",
    "\n"
   ]
  },
  {
   "cell_type": "markdown",
   "metadata": {
    "id": "gbrsriMy6_-8"
   },
   "source": [
    "## 미로탐색(2178)\n",
    "- 가장 빠른 길을 구하는 문제\n",
    "- DFS는 사용할 수 없다. BFS를 사용"
   ]
  },
  {
   "cell_type": "code",
   "execution_count": null,
   "metadata": {
    "id": "-cMhmZzr7Ity"
   },
   "outputs": [],
   "source": [
    "import sys\n",
    "from collections import deque\n",
    "# sys.setrecursionlimit(1000000)\n",
    "\n",
    "di = [0, 0, 1, -1]\n",
    "dj = [1, -1, 0, 0]\n",
    "\n",
    "n, m= map(int, sys.stdin.readline().split())\n",
    "maze = [list(map(int, list(sys.stdin.readline().rstrip()))) for _ in range(n)]\n",
    "\n",
    "arr = [[0]* m for _ in range(n)]\n",
    "queue = deque()\n",
    "\n",
    "arr[0][0] = 1 # 0,0에서 출발\n",
    "queue.append((0,0))\n",
    "def bfs():\n",
    "    while queue:\n",
    "        i,j = queue.popleft() \n",
    "        for k in range(4):\n",
    "            ni, nj = i + di[k], j + dj[k]\n",
    "            if 0 <= ni < n and 0 <= nj < m:\n",
    "                if arr[ni][nj] == 0 and maze[ni][nj] == 1: # 방문한 적이 없고 길이 있을 때\n",
    "                    queue.append((ni,nj))\n",
    "                    arr[ni][nj] = arr[i][j] + 1 # 이전 경로 +1\n",
    "\n",
    "bfs()\n",
    "print(arr[n-1][m-1])\n"
   ]
  },
  {
   "cell_type": "markdown",
   "metadata": {
    "id": "z3VNnxTSDn_A"
   },
   "source": [
    "##토마토(7576)"
   ]
  },
  {
   "cell_type": "code",
   "execution_count": null,
   "metadata": {
    "id": "7g73zbg-DqMk"
   },
   "outputs": [],
   "source": [
    "import sys\n",
    "from collections import deque\n",
    "# sys.setrecursionlimit(1000000)\n",
    "\n",
    "di = [0, 0, 1, -1]\n",
    "dj = [1, -1, 0, 0]\n",
    "\n",
    "n, m= map(int, sys.stdin.readline().split())\n",
    "tomato = [list(map(int, sys.stdin.readline().split())) for _ in range(m)]\n",
    "\n",
    "arr = [[-1]* n for _ in range(m)]\n",
    "queue = deque()\n",
    "\n",
    "for i in range(m):\n",
    "    for j in range(n):\n",
    "        if tomato[i][j] == 1:\n",
    "            arr[i][j] = 0\n",
    "            queue.append((i,j))\n",
    "        # elif tomato[i][j] == 0:\n",
    "        #     arr[i][j] = 0\n",
    "\n",
    "def bfs():\n",
    "    while queue:\n",
    "        i,j = queue.popleft()\n",
    "        for k in range(4):\n",
    "            ni, nj = i + di[k], j + dj[k]\n",
    "            if 0 <= ni < m and 0 <= nj < n:\n",
    "                if arr[ni][nj] == -1 and tomato[ni][nj] == 0: # 방문한 적이 없고 길이 있을 때\n",
    "                    queue.append((ni,nj))\n",
    "                    arr[ni][nj] = arr[i][j] + 1\n",
    "\n",
    "\n",
    "bfs()\n",
    "\n",
    "ans = max([max(row) for row in arr])\n",
    "\n",
    "for i in range(m):\n",
    "    for j in range(n):\n",
    "        if tomato[i][j] == 0 and arr[i][j] == -1:\n",
    "            ans = -1\n",
    "print(ans)"
   ]
  },
  {
   "cell_type": "markdown",
   "metadata": {
    "id": "xaxa-hNfKMJc"
   },
   "source": [
    "## 나이트의 이동(7562)"
   ]
  },
  {
   "cell_type": "code",
   "execution_count": null,
   "metadata": {
    "id": "ebCOfD9DKNyX"
   },
   "outputs": [],
   "source": [
    "import sys\n",
    "from collections import deque\n",
    "from collections import defaultdict\n",
    "# sys.setrecursionlimit(100000)\n",
    "t = int(sys.stdin.readline())\n",
    "\n",
    "di = [-1, -2, -2, -1, 1, 2, 2, 1]\n",
    "dj = [-2, -1, 1, 2, -2, -1, 1, 2]\n",
    "\n",
    "def bfs():\n",
    "        while queue:\n",
    "            i,j = queue.popleft()\n",
    "            check[i][j] = 1\n",
    "            for k in range(8):\n",
    "                ni, nj = i + di[k], j + dj[k]\n",
    "                if 0 <= ni < l and 0 <= nj < l:\n",
    "                    if arr[ni][nj] == 0 and check[ni][nj] == 0: # 방문한 적이 없고 길이 있을 때\n",
    "                        queue.append((ni,nj))\n",
    "                        arr[ni][nj] = arr[i][j] + 1\n",
    "                        check[ni][nj] = 1\n",
    "                if arr[dx][dy] != 0:\n",
    "                    break\n",
    "\n",
    "                    \n",
    "\n",
    "                        \n",
    "for _ in range(t):\n",
    "    l = int(sys.stdin.readline())\n",
    "    x, y = map(int,sys.stdin.readline().split())\n",
    "    dx, dy = map(int,sys.stdin.readline().split())\n",
    "\n",
    "    check = [[0] * l for _ in range(l)]\n",
    "    arr = [[0]* l for _ in range(l)]\n",
    "    arr[dx][dy] == -1\n",
    "    queue = deque()\n",
    "    queue.append((x,y))\n",
    "\n",
    "\n",
    "    bfs()\n",
    "        \n",
    "    print(arr[dx][dy])\n",
    "    print(arr)\n",
    "    \n",
    "\n"
   ]
  },
  {
   "cell_type": "markdown",
   "metadata": {
    "id": "SyCYToEzEEPk"
   },
   "source": [
    "## 숨바꼭질(1697)\n",
    "- N번째 위치에서 방문할 수 있는 노드는 3가지\n",
    "  - (현재 - 1), (현재 + 1), (현재 * 2)\n",
    "  - 각 방문할 수 있는 노드를 모두 방문(큐에 담아두고) k번째가 될 때 까지 진행\n",
    "  - 한 번 방문한 노드는 체크하면서 진행\n",
    "  - 노드와 노드간의 가중치는 모두 1이라고 가정"
   ]
  },
  {
   "cell_type": "code",
   "execution_count": null,
   "metadata": {
    "colab": {
     "base_uri": "https://localhost:8080/"
    },
    "executionInfo": {
     "elapsed": 2955,
     "status": "ok",
     "timestamp": 1623047573756,
     "user": {
      "displayName": "반치영",
      "photoUrl": "",
      "userId": "02232750095748228317"
     },
     "user_tz": -540
    },
    "id": "aFlhEzQOEG0l",
    "outputId": "dcfa14d9-9acd-4e1e-cb7d-786917bf3fd4"
   },
   "outputs": [
    {
     "name": "stdout",
     "output_type": "stream",
     "text": [
      "5 17\n",
      "4\n"
     ]
    }
   ],
   "source": [
    "from collections import deque\n",
    "from collections import defaultdict\n",
    "# sys.setrecursionlimit(100000)\n",
    "n, k = map(int, input().split())\n",
    "\n",
    "def bfs():\n",
    "    while queue:\n",
    "        i = queue.popleft()\n",
    "        if i == k:\n",
    "            print(arr[i])\n",
    "            break\n",
    "\n",
    "        check[i] = 1\n",
    "        ni1, ni2, ni3 = i + 1, i - 1, i * 2\n",
    "        \n",
    "        if 0 <= ni1 <= 100000 and check[ni1] != 1:\n",
    "            check[ni1] = 1\n",
    "            arr[ni1] = arr[i] + 1\n",
    "            queue.append(ni1)\n",
    "        if 0 <= ni2 <= 100000 and check[ni2] != 1:\n",
    "            check[ni2] = 1\n",
    "            arr[ni2] = arr[i] + 1\n",
    "            queue.append(ni2)\n",
    "        if 0 <= ni3 <= 100000 and check[ni3] != 1:\n",
    "            check[ni3] = 1\n",
    "            arr[ni3] = arr[i] + 1\n",
    "            queue.append(ni3)\n",
    "\n",
    "            \n",
    "            \n",
    "\n",
    "check = [0] * 100001\n",
    "arr = [0] * 100001\n",
    "queue = deque()\n",
    "queue.append(n)\n",
    "bfs()"
   ]
  },
  {
   "cell_type": "code",
   "execution_count": null,
   "metadata": {
    "colab": {
     "base_uri": "https://localhost:8080/",
     "height": 53
    },
    "executionInfo": {
     "elapsed": 3232,
     "status": "ok",
     "timestamp": 1623047933561,
     "user": {
      "displayName": "반치영",
      "photoUrl": "",
      "userId": "02232750095748228317"
     },
     "user_tz": -540
    },
    "id": "-rc6r9HKLkBI",
    "outputId": "4c13a8bb-0388-4000-be16-8cb3ef5b3249"
   },
   "outputs": [
    {
     "name": "stdout",
     "output_type": "stream",
     "text": [
      "5 17\n"
     ]
    },
    {
     "data": {
      "text/plain": [
       "4"
      ]
     },
     "metadata": {
      "tags": []
     },
     "output_type": "display_data"
    }
   ],
   "source": [
    "from collections import deque\n",
    "from collections import defaultdict\n",
    "# sys.setrecursionlimit(100000)\n",
    "MAX = 200000\n",
    "n, k = map(int, input().split())\n",
    "\n",
    "check = [False] * (MAX +1)\n",
    "dist = [-1] * (MAX + 1)\n",
    "check[n] = True\n",
    "dist[n] = 0\n",
    "queue = deque()\n",
    "queue.append(n)\n",
    "\n",
    "while queue:\n",
    "  now = queue.popleft()\n",
    "  for next in [now-1, now+1, now * 2]:\n",
    "    if 0 <= next <= MAX and check[next] == False:\n",
    "      check[next] = True\n",
    "      dist[next] = dist[now] + 1\n",
    "      queue.append(next)\n",
    "\n",
    "display(dist[k])\n"
   ]
  },
  {
   "cell_type": "markdown",
   "metadata": {
    "id": "kai3nYeMNGPM"
   },
   "source": [
    "## 숨바꼭질-4(13913)\n",
    "- 이동하는 시간 뿐만 아니라 이동하는 경로도 기록\n",
    " - from(i) -> (i) ... -> (k)\n",
    " - k 부터 시작위치까지 역추적 할 수 있어야 한다.\n",
    "- 이동 기록은 다음과 같은 경우를 구별해야 한다.\n",
    " - from(i-1) ->\n",
    " - from(i+1) ->\n",
    " - from(i*2) ->"
   ]
  },
  {
   "cell_type": "code",
   "execution_count": null,
   "metadata": {
    "colab": {
     "base_uri": "https://localhost:8080/"
    },
    "executionInfo": {
     "elapsed": 3821,
     "status": "ok",
     "timestamp": 1623053670908,
     "user": {
      "displayName": "반치영",
      "photoUrl": "",
      "userId": "02232750095748228317"
     },
     "user_tz": -540
    },
    "id": "KkEoQPJBEHYK",
    "outputId": "e10eff17-7b75-429e-e067-bff4aed1c80f"
   },
   "outputs": [
    {
     "name": "stdout",
     "output_type": "stream",
     "text": [
      "5 17\n",
      "4\n",
      "5 4 8 16 17 "
     ]
    }
   ],
   "source": [
    "from collections import deque\n",
    "from collections import defaultdict\n",
    "# sys.setrecursionlimit(1000000)\n",
    "MAX = 200000\n",
    "n, k = map(int, input().split())\n",
    "\n",
    "check = [False] * (MAX +1)\n",
    "dist = [-1] * (MAX + 1)\n",
    "path = [-1] * (MAX + 1)\n",
    "check[n] = True\n",
    "dist[n] = 0\n",
    "queue = deque()\n",
    "queue.append(n)\n",
    "\n",
    "while queue:\n",
    "  now = queue.popleft()\n",
    "  if now == k:\n",
    "    break\n",
    "  for next in [now-1, now+1, now * 2]:\n",
    "    if 0 <= next <= MAX and check[next] == False:\n",
    "      check[next] = True\n",
    "      dist[next] = dist[now] + 1\n",
    "      queue.append(next)\n",
    "      path[next] = now\n",
    "\n",
    "def solve(n, k):\n",
    "  if n != k:\n",
    "    solve(n, path[k])\n",
    "  print(k, end = ' ')\n",
    "\n",
    "\n",
    "print(dist[k])\n",
    "solve(n,k)\n",
    "# ans = [k]\n",
    "# x = k\n",
    "# while path[x] != -1:\n",
    "#     ans.append(path[x])\n",
    "#     x = path[x]\n",
    "# print()\n",
    "# print(*reversed(ans))\n"
   ]
  },
  {
   "cell_type": "markdown",
   "metadata": {
    "id": "aKmaaNRla6fh"
   },
   "source": [
    "## 이모티콘(14226)\n",
    "- 화면(S), 클립보드(C) = 정점(S,C)\n",
    "  - 1: (S,C) -> (S,S)\n",
    "  - 2: (S,C) -> (S+C,C)\n",
    "  - 3: (S,C) -> (S-1,C)\n"
   ]
  },
  {
   "cell_type": "code",
   "execution_count": null,
   "metadata": {
    "colab": {
     "base_uri": "https://localhost:8080/"
    },
    "executionInfo": {
     "elapsed": 1934,
     "status": "ok",
     "timestamp": 1623066164823,
     "user": {
      "displayName": "반치영",
      "photoUrl": "",
      "userId": "02232750095748228317"
     },
     "user_tz": -540
    },
    "id": "Ptt5Yh1-TPql",
    "outputId": "295c9a9a-5811-46d9-9945-08f3deab0024"
   },
   "outputs": [
    {
     "name": "stdout",
     "output_type": "stream",
     "text": [
      "6\n",
      "5\n"
     ]
    }
   ],
   "source": [
    "from collections import deque\n",
    "from collections import defaultdict\n",
    "# sys.setrecursionlimit(1000000)\n",
    "\n",
    "n = int(input())\n",
    "\n",
    "dist = [[-1] * (n+1) for _ in range(n+1)]\n",
    "queue = deque()\n",
    "queue.append((1,0))\n",
    "dist[1][0] = 0\n",
    "\n",
    "while queue:\n",
    "  s, c = queue.popleft()\n",
    "  if dist[s][s] == -1:\n",
    "    dist[s][s] = dist[s][c] +1\n",
    "    queue.append((s,s))\n",
    "\n",
    "  if s+c <= n and dist[s+c][c] == -1:\n",
    "    dist[s+c][c] = dist[s][c] +1\n",
    "    queue.append((s+c,c))\n",
    "\n",
    "  if s-1 >= 0 and dist[s-1][c] == -1:\n",
    "    dist[s-1][c] = dist[s][c] +1\n",
    "    queue.append((s-1,c))\n",
    "\n",
    "  # if s == n:\n",
    "  #   break\n",
    "  \n",
    "\n",
    "\n",
    "ans = -1\n",
    "\n",
    "for i in range(n+1):\n",
    "  if dist[n][i] != -1:\n",
    "    if ans == -1 or ans > dist[n][i]:\n",
    "      ans = dist[n][i]\n",
    "\n",
    "print(ans)"
   ]
  },
  {
   "cell_type": "markdown",
   "metadata": {
    "id": "FxyDRa7EmjU1"
   },
   "source": [
    "## 숨바꼭질-3(13549)\n",
    "- 순간이동은 0초\n",
    "- 나머지는 1초\n",
    "  - BFS는 가중치가 다른 경우에는 최단 거리를 구할 수 없다\n",
    "  - 간선의 가중치가 같아야만 최단 거리를 구할 수 있다.\n",
    "- 가중치가 다른 큐를 2개 놓고 계산\n",
    "1. 일단 0초만에 방문할 수 있는 모든 노드를 방문\n",
    "\n",
    "|0|1|2|3|4|5|6|7|8|9|10|11|12|13|14|15|16|17|18|19|\n",
    "|:---:|:---:|:---:|:---:|:---:|:---:|:---:|:---:|:---:|:---:|:---:|:---:|:---:|:---:|:---:|:---:|:---:|:---:|:---:|:---:|\n",
    "|0초|5|10|20|||||||||||||||\n",
    "\n",
    "2. 1초만에 방문할 수 있는 모든 노드를 방문\n",
    "\n",
    "|0|1|2|3|4|5|6|7|8|9|10|11|12|13|14|15|16|17|18|19|\n",
    "|:---:|:---:|:---:|:---:|:---:|:---:|:---:|:---:|:---:|:---:|:---:|:---:|:---:|:---:|:---:|:---:|:---:|:---:|:---:|:---:|\n",
    "|1초|4|6|9|11|19|8|12|||||||||||\n",
    "\n",
    "3. 2초만에 방문할 수 있는 모든 노드를 방문\n",
    "\n",
    "|0|1|2|3|4|5|6|7|8|9|10|11|12|13|14|15|16|17|18|19|\n",
    "|:---:|:---:|:---:|:---:|:---:|:---:|:---:|:---:|:---:|:---:|:---:|:---:|:---:|:---:|:---:|:---:|:---:|:---:|:---:|:---:|\n",
    "|2초|3|7|9|11|19|8|17|||||||||||\n",
    "  "
   ]
  },
  {
   "cell_type": "code",
   "execution_count": 14,
   "metadata": {
    "colab": {
     "base_uri": "https://localhost:8080/"
    },
    "executionInfo": {
     "elapsed": 1981,
     "status": "ok",
     "timestamp": 1623132935693,
     "user": {
      "displayName": "반치영",
      "photoUrl": "",
      "userId": "02232750095748228317"
     },
     "user_tz": -540
    },
    "id": "kCJ9-T1feh6n",
    "outputId": "ef280d1e-7169-4f84-c694-e81de8f4ead3"
   },
   "outputs": [
    {
     "name": "stdout",
     "output_type": "stream",
     "text": [
      "5 18\n",
      "1\n"
     ]
    }
   ],
   "source": [
    "from collections import deque\n",
    "from collections import defaultdict\n",
    "# sys.setrecursionlimit(1000000)\n",
    "\n",
    "MAX = 200000\n",
    "n, k= map(int,input().split())\n",
    "\n",
    "check = [0] * (MAX +1)\n",
    "dist = [-1] * (MAX + 1)\n",
    "\n",
    "check[n] = 1\n",
    "dist[n] = 0\n",
    "\n",
    "queue = deque()\n",
    "next_queue = deque()\n",
    "\n",
    "queue.append(n)\n",
    "\n",
    "while queue:\n",
    "  now = queue.popleft()\n",
    "  if 0<= (now * 2) < MAX and check [now * 2] == 0:\n",
    "    check[now * 2] = 1\n",
    "    dist[now * 2] = dist[now]\n",
    "    queue.append(now*2)\n",
    "  \n",
    "  if now-1 >= 0 and check[now-1] == 0:\n",
    "    next_queue.append(now-1)\n",
    "    check[now-1] = 1\n",
    "    dist[now-1] = dist[now] + 1\n",
    "\n",
    "  if now+1 < MAX and check[now+1] == 0:\n",
    "    next_queue.append(now+1)\n",
    "    check[now+1] = 1\n",
    "    dist[now+1] = dist[now] + 1\n",
    "\n",
    "  if not queue:\n",
    "    queue = next_queue\n",
    "    next_queue = deque()\n",
    "  \n",
    "print(dist[k])"
   ]
  },
  {
   "cell_type": "markdown",
   "metadata": {
    "id": "hixGtDVJRgf2"
   },
   "source": [
    "- 덱을 이용해서 풀 수있다.\n",
    "  - 덱은 리스트의 앞, 뒤 모두 입/출력을 할 수있다.\n",
    "  - 큐 2개를 두지 않고 덱을 이용해서\n",
    "  - 덱의 앞에는 현재 큐, 덱의 뒤에는 다음 큐라고 가정"
   ]
  },
  {
   "cell_type": "code",
   "execution_count": 11,
   "metadata": {
    "colab": {
     "base_uri": "https://localhost:8080/"
    },
    "executionInfo": {
     "elapsed": 3262,
     "status": "ok",
     "timestamp": 1623132897844,
     "user": {
      "displayName": "반치영",
      "photoUrl": "",
      "userId": "02232750095748228317"
     },
     "user_tz": -540
    },
    "id": "hODH6Rvaz8E2",
    "outputId": "0e3a1e93-ffef-4cb5-95dd-df0f52f24e25"
   },
   "outputs": [
    {
     "name": "stdout",
     "output_type": "stream",
     "text": [
      "5 17\n",
      "2\n"
     ]
    }
   ],
   "source": [
    "from collections import deque\n",
    "from collections import defaultdict\n",
    "# sys.setrecursionlimit(1000000)\n",
    "\n",
    "n, k = map(int, input().split())\n",
    "queue = deque()\n",
    "queue.append((n,0))\n",
    "\n",
    "\n",
    "check = [False]*100001\n",
    "while queue:\n",
    "    x, count = queue.popleft()\n",
    "    if x == k:\n",
    "        print(count)\n",
    "        break\n",
    "    if not check[x]:\n",
    "        check[x] = True\n",
    "        if 0<= (2*x) <= 100000:\n",
    "            queue.appendleft((2*x, count))\n",
    "        if 0<= (x+1) <= 100000:\n",
    "            queue.append((x+1, count+1))\n",
    "        if 0<= (x-1) <= 100000:\n",
    "            queue.append((x-1, count+1))"
   ]
  },
  {
   "cell_type": "code",
   "execution_count": 19,
   "metadata": {
    "colab": {
     "base_uri": "https://localhost:8080/"
    },
    "executionInfo": {
     "elapsed": 3224,
     "status": "ok",
     "timestamp": 1623133447852,
     "user": {
      "displayName": "반치영",
      "photoUrl": "",
      "userId": "02232750095748228317"
     },
     "user_tz": -540
    },
    "id": "aYA-Rps15X1U",
    "outputId": "a95f8fc3-83ab-4f32-981f-8b9be9c70322"
   },
   "outputs": [
    {
     "name": "stdout",
     "output_type": "stream",
     "text": [
      "5 17\n",
      "2\n"
     ]
    }
   ],
   "source": [
    "from collections import deque\n",
    "from collections import defaultdict\n",
    "# sys.setrecursionlimit(1000000)\n",
    "\n",
    "MAX = 200000\n",
    "n, k= map(int,input().split())\n",
    "\n",
    "check = [0] * (MAX +1)\n",
    "dist = [-1] * (MAX + 1)\n",
    "\n",
    "check[n] = 1\n",
    "dist[n] = 0\n",
    "\n",
    "dequeue = deque()\n",
    "dequeue.append(n)\n",
    "\n",
    "while dequeue:\n",
    "  now = dequeue.popleft()\n",
    "  if 0<= (now * 2) < MAX and check [now * 2] == 0:\n",
    "    check[now * 2] = 1\n",
    "    dist[now * 2] = dist[now]\n",
    "    dequeue.appendleft(now*2)\n",
    "  \n",
    "  if now-1 >= 0 and check[now-1] == 0:\n",
    "    dequeue.append(now-1)\n",
    "    check[now-1] = 1\n",
    "    dist[now-1] = dist[now] + 1\n",
    "\n",
    "  if now+1 < MAX and check[now+1] == 0:\n",
    "    dequeue.append(now+1)\n",
    "    check[now+1] = 1\n",
    "    dist[now+1] = dist[now] + 1\n",
    "\n",
    "  \n",
    "print(dist[k])"
   ]
  },
  {
   "cell_type": "markdown",
   "metadata": {
    "id": "otrkAT5HSnGf"
   },
   "source": [
    "## 알고스팟(1261)\n",
    "- 벽 부수기\n",
    "- 정점은 (i,j)로 표현\n",
    "  - 이동할 수 있는 다른 정점은 (i+1, j), (i, j+1), (i-1, j), (i, j-1) \n",
    "- 간선의 가중치\n",
    "  - 빈방 -> 빈방 : 0\n",
    "  - 빈방 -> 벽 : 1\n",
    "\n",
    "- 벽을 부수는 최소 횟수\n",
    "- 가중치가 다르기 때문에, 각각 다르게 계산\n",
    "  - 큐 2개 또는 덱 1개"
   ]
  },
  {
   "cell_type": "code",
   "execution_count": 72,
   "metadata": {
    "colab": {
     "base_uri": "https://localhost:8080/"
    },
    "executionInfo": {
     "elapsed": 4322,
     "status": "ok",
     "timestamp": 1623136287562,
     "user": {
      "displayName": "반치영",
      "photoUrl": "",
      "userId": "02232750095748228317"
     },
     "user_tz": -540
    },
    "id": "8qHXWvbPSHEd",
    "outputId": "a9444602-ebb8-4045-8f66-76f57e56e2b4"
   },
   "outputs": [
    {
     "name": "stdout",
     "output_type": "stream",
     "text": [
      "4 2\n",
      "0001\n",
      "1000\n",
      "0\n"
     ]
    }
   ],
   "source": [
    "from collections import deque\n",
    "from collections import defaultdict\n",
    "\n",
    "di = [1, -1, 0, 0]\n",
    "dj = [0, 0, 1, -1]\n",
    "\n",
    "m, n = map(int,input().split())\n",
    "maze = [list(map(int, list(input().rstrip()))) for _ in range(n)]\n",
    "\n",
    "d = [[-1]* m for _ in range(n)]\n",
    "\n",
    "d[0][0] = 0\n",
    "dequeue = deque()\n",
    "dequeue.append((0,0))\n",
    "\n",
    "while dequeue:\n",
    "  i, j = dequeue.popleft()\n",
    "  for k in range(4):\n",
    "    ni, nj = i + di[k], j + dj[k]\n",
    "    if 0<= ni < n and 0<= nj < m:\n",
    "      if d[ni][nj] == -1:\n",
    "        if maze[ni][nj] == 0:\n",
    "          d[ni][nj] = d[i][j]\n",
    "          dequeue.appendleft((ni,nj))\n",
    "\n",
    "        if maze[ni][nj] == 1:\n",
    "          d[ni][nj] = d[i][j] + 1\n",
    "          dequeue.append((ni,nj))\n",
    "\n",
    "\n",
    "\n",
    "\n",
    "print(d[n-1][m-1])"
   ]
  },
  {
   "cell_type": "code",
   "execution_count": null,
   "metadata": {
    "id": "NP6e2feScplE"
   },
   "outputs": [],
   "source": []
  }
 ],
 "metadata": {
  "colab": {
   "authorship_tag": "ABX9TyOVsfhMCcRa0tlBNlKq083P",
   "collapsed_sections": [],
   "name": "그래프.ipynb",
   "provenance": []
  },
  "kernelspec": {
   "display_name": "Python 3 (ipykernel)",
   "language": "python",
   "name": "python3"
  },
  "language_info": {
   "codemirror_mode": {
    "name": "ipython",
    "version": 3
   },
   "file_extension": ".py",
   "mimetype": "text/x-python",
   "name": "python",
   "nbconvert_exporter": "python",
   "pygments_lexer": "ipython3",
   "version": "3.9.7"
  }
 },
 "nbformat": 4,
 "nbformat_minor": 1
}
