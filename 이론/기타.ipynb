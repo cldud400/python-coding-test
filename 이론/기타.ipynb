{
 "cells": [
  {
   "cell_type": "markdown",
   "metadata": {
    "id": "iIqfgkbd5GIk"
   },
   "source": [
    "# 문제 풀이"
   ]
  },
  {
   "cell_type": "markdown",
   "metadata": {
    "id": "JULindbG5H9d"
   },
   "source": [
    "## 수들의 합 -2(2003)\n",
    "- n개의 수에서 더해서 m이 되는 수를 찾는다\n",
    "- n개의 수 모두에서 m이 될 때 까지 찾으면 된다.\n",
    "  - $O(2^N)$이 되기 때문에 풀 수 없다.\n",
    "- 투포인트 방식으로 접근\n",
    "- 찾으려는 숫자 5\n",
    "\n",
    "\n",
    "|||||||||||\n",
    "|:---:|:---:|:---:|:---:|:---:|:---:|:---:|:---:|:---:|:---:|\n",
    "|i||||||||||\n",
    "|1|2|3|4|2|5|3|1|1|2|\n",
    "|j||||||||||\n",
    "\n",
    "|||||||||||\n",
    "|:---:|:---:|:---:|:---:|:---:|:---:|:---:|:---:|:---:|:---:|\n",
    "|||i||||||||\n",
    "|1|2|3|4|2|5|3|1|1|2|\n",
    "||j|||||||||\n"
   ]
  },
  {
   "cell_type": "code",
   "execution_count": null,
   "metadata": {
    "colab": {
     "base_uri": "https://localhost:8080/"
    },
    "executionInfo": {
     "elapsed": 314,
     "status": "ok",
     "timestamp": 1624003853561,
     "user": {
      "displayName": "반치영",
      "photoUrl": "",
      "userId": "02232750095748228317"
     },
     "user_tz": -540
    },
    "id": "HTGFF97z5BMl",
    "outputId": "38a18349-2581-4e1b-ad26-292ed139a3b6"
   },
   "outputs": [
    {
     "name": "stdout",
     "output_type": "stream",
     "text": [
      "3\n"
     ]
    }
   ],
   "source": [
    "# n, m = map(int,input().split())\n",
    "# a = list(map(int,input().split()))\n",
    "\n",
    "n, m = 10, 5\n",
    "a = [1,2,3,4,2,5,3,1,1,2]\n",
    "\n",
    "left, right = 0, 0\n",
    "cnt = 0\n",
    "ssum = 0\n",
    "while True:\n",
    "\n",
    "  if ssum < m:\n",
    "    if right == n: break\n",
    "    ssum += a[right]\n",
    "    right += 1\n",
    "\n",
    "  else:\n",
    "    if left == right: break\n",
    "    ssum -= a[left]\n",
    "    left += 1\n",
    "\n",
    "  \n",
    "  if ssum == m:\n",
    "    cnt += 1\n",
    "\n",
    "\n",
    "print(cnt)\n"
   ]
  },
  {
   "cell_type": "markdown",
   "metadata": {
    "id": "JDFDL4TiDbd1"
   },
   "source": [
    "## 부분합(1806)"
   ]
  },
  {
   "cell_type": "code",
   "execution_count": null,
   "metadata": {
    "colab": {
     "base_uri": "https://localhost:8080/"
    },
    "executionInfo": {
     "elapsed": 288,
     "status": "ok",
     "timestamp": 1624004008305,
     "user": {
      "displayName": "반치영",
      "photoUrl": "",
      "userId": "02232750095748228317"
     },
     "user_tz": -540
    },
    "id": "Iu1EWdeKCYAW",
    "outputId": "dc1beb31-59d8-4951-c32f-fd2f3246468e"
   },
   "outputs": [
    {
     "name": "stdout",
     "output_type": "stream",
     "text": [
      "2\n"
     ]
    }
   ],
   "source": [
    "n, m = 10,15\n",
    "a = [5,1,3,5,10,7,4,9,2,8]\n",
    "\n",
    "# n, m = map(int,input().split())\n",
    "# a = list(map(int,input().split()))\n",
    "\n",
    "left, right = 0, 0\n",
    "ans = 999999999999999999999\n",
    "length = 0\n",
    "ssum = 0\n",
    "while True:\n",
    "\n",
    "  \n",
    "\n",
    "  if ssum < m:\n",
    "    if right == n: break\n",
    "    ssum += a[right]\n",
    "    right += 1\n",
    "\n",
    "  else:\n",
    "    if left == right: break\n",
    "    length = right - left\n",
    "    if ans > length:\n",
    "      ans = length\n",
    "    ssum -= a[left]\n",
    "    left += 1\n",
    "\n",
    "\n",
    "\n",
    "if ans == 999999999999999999999:\n",
    "  ans = 0\n",
    "\n",
    "\n",
    "print(ans)"
   ]
  },
  {
   "cell_type": "markdown",
   "metadata": {
    "id": "kgtlUxHoL0pp"
   },
   "source": [
    "풀이"
   ]
  },
  {
   "cell_type": "code",
   "execution_count": null,
   "metadata": {
    "colab": {
     "base_uri": "https://localhost:8080/"
    },
    "executionInfo": {
     "elapsed": 290,
     "status": "ok",
     "timestamp": 1624004434524,
     "user": {
      "displayName": "반치영",
      "photoUrl": "",
      "userId": "02232750095748228317"
     },
     "user_tz": -540
    },
    "id": "V0iS4BOjEIBE",
    "outputId": "8940b60b-7109-44b9-923c-f707b1ecd612"
   },
   "outputs": [
    {
     "name": "stdout",
     "output_type": "stream",
     "text": [
      "2\n"
     ]
    }
   ],
   "source": [
    "n ,s = 10, 15\n",
    "a = [5,1,3,5,10,7,4,9,2,8]\n",
    "\n",
    "left = right = 0\n",
    "sum = a[0]\n",
    "ans = n+1\n",
    "\n",
    "while left <= right and right < n:\n",
    "  if sum < s:\n",
    "    right += 1\n",
    "    if right < n: sum += a[right]\n",
    "  \n",
    "  elif sum == s:\n",
    "    ans = min(right-left+1, ans)\n",
    "    right += 1\n",
    "    if right < n: sum += a[right]\n",
    "\n",
    "  elif sum > s:\n",
    "    ans = min(right-left+1, ans)\n",
    "    sum -= a[left]\n",
    "    left += 1\n",
    "    if left > right and left < s:\n",
    "      right = left\n",
    "      sum = a[left]\n",
    "\n",
    "if ans > n: ans = 0\n",
    "\n",
    "print(ans)"
   ]
  },
  {
   "cell_type": "markdown",
   "metadata": {
    "id": "g3KrayHjNgcM"
   },
   "source": [
    "## 소수의 연속합(1644)\n",
    "- 수들의 합 문제와 동일한 문제이지만, 소수를 구해야 한다."
   ]
  },
  {
   "cell_type": "code",
   "execution_count": null,
   "metadata": {
    "colab": {
     "base_uri": "https://localhost:8080/"
    },
    "executionInfo": {
     "elapsed": 2654,
     "status": "ok",
     "timestamp": 1624005623834,
     "user": {
      "displayName": "반치영",
      "photoUrl": "",
      "userId": "02232750095748228317"
     },
     "user_tz": -540
    },
    "id": "m0i1L7FRMxN2",
    "outputId": "5a26f71e-1231-452e-bbb8-628d0281a6f2"
   },
   "outputs": [
    {
     "name": "stdout",
     "output_type": "stream",
     "text": [
      "41\n",
      "3\n"
     ]
    }
   ],
   "source": [
    "n = int(input())\n",
    "a = []\n",
    "\n",
    "# for i in range(1,n+1):\n",
    "#   cnt = 0\n",
    "#   for j in range(1,n+1):\n",
    "#     if i % j == 0:\n",
    "#       cnt += 1\n",
    "\n",
    "#   if cnt == 2:\n",
    "#     a.append(i)\n",
    "\n",
    "# 에라토스테네스의 채\n",
    "check = [False] * (n+1)\n",
    "for i in range(2, n+1):\n",
    "  if check[i]: continue\n",
    "  j = i * 2\n",
    "  a.append(i)\n",
    "  while j <= n:\n",
    "    check[j] = True\n",
    "    j += i\n",
    "\n",
    "\n",
    "\n",
    "left, right = 0, 0\n",
    "cnt = 0\n",
    "ssum = 0\n",
    "while True:\n",
    "\n",
    "  if ssum < n:\n",
    "    if right == len(a): break\n",
    "    ssum += a[right]\n",
    "    right += 1\n",
    "\n",
    "  else:\n",
    "    if left == right: break\n",
    "    ssum -= a[left]\n",
    "    left += 1\n",
    "\n",
    "  \n",
    "  if ssum == n:\n",
    "    cnt += 1\n",
    "\n",
    "\n",
    "print(cnt)"
   ]
  },
  {
   "cell_type": "markdown",
   "metadata": {
    "id": "Lq2UQ3s2KtQj"
   },
   "source": [
    "# 중간에서 만나기\n",
    "- 문제를 절반으로 나눠서 접근하는 방식\n",
    "- 양쪽 절반에서 모든 경우를 다 해 보는 방법\n",
    "  - 탐색의 크기가 많이 줄어든다\n"
   ]
  },
  {
   "cell_type": "markdown",
   "metadata": {
    "id": "jDm7XQ9UK45f"
   },
   "source": [
    "## 부분수열의 합-2(1208)\n",
    "- 문제(2003)과 비슷한데\n",
    "  - 정수의 개수가 최대 40개, 시간제한 1초\n",
    "\n",
    "- A = [ -7, -3, -2, 5, 8 ], S = 0\n",
    "  - up = [ -7, -3], down = [ -2, 5, 8 ]\n",
    "  - up = [], [-7], [-3], [-7,-3]\n",
    "  - down = [], [-2], [5], [8], [-2,5], [-2,8], [5,8], [-2,5,8]\n",
    "\n",
    "- up의 합\n",
    "\n",
    "|L||||\n",
    "|:---:|:---:|:---:|:---:|\n",
    "|0|-7|-3|-10|\n",
    "\n",
    "- down의 합\n",
    "\n",
    "||||||||R|\n",
    "|:---:|:---:|:---:|:---:|:---:|:---:|:---:|:---:|\n",
    "|0|-2|3|5|6|8|13|11|\n"
   ]
  },
  {
   "cell_type": "code",
   "execution_count": 85,
   "metadata": {
    "colab": {
     "base_uri": "https://localhost:8080/"
    },
    "executionInfo": {
     "elapsed": 299,
     "status": "ok",
     "timestamp": 1624258541405,
     "user": {
      "displayName": "반치영",
      "photoUrl": "",
      "userId": "02232750095748228317"
     },
     "user_tz": -540
    },
    "id": "Oc9k9JmgOlfm",
    "outputId": "633ff114-1a01-453f-88da-0905b855f1bc"
   },
   "outputs": [
    {
     "name": "stdout",
     "output_type": "stream",
     "text": [
      "1\n"
     ]
    }
   ],
   "source": [
    "# n, s = map(int,input().split())\n",
    "# a = list(map(int,input().split()))\n",
    "\n",
    "n, s = 5,0 \n",
    "a = [-7, -3, -2, 5, 8]\n",
    "m = n // 2\n",
    "n = n - m\n",
    "\n",
    "up = [0] * (1<<n)\n",
    "for i in range(1<<n):\n",
    "  for k in range(n):\n",
    "    if  (i& (1<<k)) > 0:\n",
    "      up[i] += a[k]\n",
    "\n",
    "down = [0] * (1<<m)\n",
    "for i in range(1<<m):\n",
    "  for k in range(m):\n",
    "    if (i& (1<<k)) > 0:\n",
    "      down[i] += a[k+n]\n",
    "\n",
    "\n",
    "\n",
    "up.sort()\n",
    "down.sort()\n",
    "down.reverse()\n",
    "\n",
    "\n",
    "n = (1<<n)\n",
    "m = (1<<m)\n",
    "i = j = ans = 0\n",
    "\n",
    "while i < n and j < m:\n",
    "  if up[i] + down[j] == s:\n",
    "    c1 = 1\n",
    "    c2 = 1\n",
    "    i += 1\n",
    "    j += 1\n",
    "    while i < n and up[i] == up[i-1]: # 같은 합이 있다면\n",
    "      c1 += 1\n",
    "      i += 1\n",
    "    while j < m and down[j] == down[j-1]: # 같은 합이 있다면\n",
    "      c2 += 1\n",
    "      j += 1\n",
    "    ans += c1 * c2\n",
    "\n",
    "  elif up[i] + down[j] < s: i += 1\n",
    "  else: j += 1\n",
    "\n",
    "\n",
    "# 0+0의 경우는 빼준다\n",
    "if s == 0:\n",
    "  ans -= 1\n",
    "\n",
    "print(ans)"
   ]
  },
  {
   "cell_type": "markdown",
   "metadata": {
    "id": "mR03QPzFX-sd"
   },
   "source": [
    "## 두 배열의 합(2143)\n",
    "- t = 5, A의 부분합에 대해서, 해당하는 B의 부분합의 개수를 세어주면 된다."
   ]
  },
  {
   "cell_type": "code",
   "execution_count": 110,
   "metadata": {
    "colab": {
     "base_uri": "https://localhost:8080/"
    },
    "executionInfo": {
     "elapsed": 289,
     "status": "ok",
     "timestamp": 1624260465598,
     "user": {
      "displayName": "반치영",
      "photoUrl": "",
      "userId": "02232750095748228317"
     },
     "user_tz": -540
    },
    "id": "Q74XEuJjZHe2",
    "outputId": "82ad0ad6-2299-4d2f-9491-b4510e11ee6d"
   },
   "outputs": [
    {
     "name": "stdout",
     "output_type": "stream",
     "text": [
      "7\n"
     ]
    }
   ],
   "source": [
    "from collections import Counter\n",
    "# t = int(input())\n",
    "# n = int(input())\n",
    "# a = list(map(int,input().split()))\n",
    "# m = int(input())\n",
    "# b = list(map(int,input().split()))\n",
    "\n",
    "t = 5\n",
    "n = 4\n",
    "a = [1,3,1,2]\n",
    "m = 3\n",
    "b = [1,3,2]\n",
    "\n",
    "\n",
    "x = []\n",
    "y = []\n",
    "\n",
    "for i in range(n):\n",
    "  sum = 0\n",
    "  for j in range(i, n):\n",
    "    sum += a[j]\n",
    "    x.append(sum)\n",
    "\n",
    "\n",
    "\n",
    "for i in range(m):\n",
    "  sum = 0\n",
    "  for j in range(i, m):\n",
    "    sum += b[j]\n",
    "    y.append(sum)\n",
    "\n",
    "x.sort()\n",
    "y.sort()\n",
    "\n",
    "# 개수를 세는 함수( ex) 1이 2개, 3이 1개...)\n",
    "c = Counter(y)\n",
    "ans = 0\n",
    "\n",
    "for num in x:\n",
    "  ans += c[t-num]\n",
    "\n",
    "print(ans)\n"
   ]
  },
  {
   "cell_type": "code",
   "execution_count": null,
   "metadata": {
    "id": "UhUgFjcsdPxo"
   },
   "outputs": [],
   "source": []
  }
 ],
 "metadata": {
  "colab": {
   "authorship_tag": "ABX9TyP8srGpHTh3nw2TTRvBmbX6",
   "name": "기타.ipynb",
   "provenance": []
  },
  "kernelspec": {
   "display_name": "Python 3 (ipykernel)",
   "language": "python",
   "name": "python3"
  },
  "language_info": {
   "codemirror_mode": {
    "name": "ipython",
    "version": 3
   },
   "file_extension": ".py",
   "mimetype": "text/x-python",
   "name": "python",
   "nbconvert_exporter": "python",
   "pygments_lexer": "ipython3",
   "version": "3.9.7"
  }
 },
 "nbformat": 4,
 "nbformat_minor": 1
}
