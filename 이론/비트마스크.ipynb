{
 "cells": [
  {
   "cell_type": "markdown",
   "metadata": {
    "id": "lcnD75dU-XC9"
   },
   "source": [
    "# 파이썬의 비트 연산\n",
    "- and(&), or(|), not(~), xor(^)\n",
    "\n",
    "- 비트 연산의 진리표\n",
    "\n",
    "| A | B | ~A | ~B | A & B | A \\| B | A ^ B |\n",
    "|:---:|:---:|:---:|:---:|:---:|:---:|:---:|\n",
    "| 0 | 0 | 1 | 1 | 0 | 0 | 0 |\n",
    "| 1 | 0 | 0 | 1 | 0 | 1 | 1 |\n",
    "| 0 | 1 | 1 | 0 | 0 | 1 | 1 |\n",
    "| 1 | 1 | 0 | 0 | 1 | 1 | 0 |"
   ]
  },
  {
   "cell_type": "markdown",
   "metadata": {
    "id": "Qpa8RzOg_iLC"
   },
   "source": [
    "임의의 두 수를 비트 연산을 하면"
   ]
  },
  {
   "cell_type": "code",
   "execution_count": null,
   "metadata": {
    "colab": {
     "base_uri": "https://localhost:8080/",
     "height": 53
    },
    "executionInfo": {
     "elapsed": 283,
     "status": "ok",
     "timestamp": 1621838560385,
     "user": {
      "displayName": "반치영",
      "photoUrl": "",
      "userId": "02232750095748228317"
     },
     "user_tz": -540
    },
    "id": "iSI9kO-c_Kei",
    "outputId": "569c1e0c-5ad0-404f-8553-8e01d0120cf1"
   },
   "outputs": [
    {
     "data": {
      "application/vnd.google.colaboratory.intrinsic+json": {
       "type": "string"
      },
      "text/plain": [
       "'01111011'"
      ]
     },
     "metadata": {
      "tags": []
     },
     "output_type": "display_data"
    },
    {
     "data": {
      "application/vnd.google.colaboratory.intrinsic+json": {
       "type": "string"
      },
      "text/plain": [
       "'101000001'"
      ]
     },
     "metadata": {
      "tags": []
     },
     "output_type": "display_data"
    }
   ],
   "source": [
    "a = 123\n",
    "b = 321\n",
    "display('{:08b}'.format(a))\n",
    "display('{:08b}'.format(b))\n",
    "# 0b는 2진수라는 의미"
   ]
  },
  {
   "cell_type": "markdown",
   "metadata": {
    "id": "Fynk7sm2AMCe"
   },
   "source": [
    "두 수에 대해서 AND 연산\n",
    "- 비트 연산을 하는 경우에는 뒤에서부터 하나씩 계산\n",
    "\n",
    "```\n",
    "    11111011\n",
    " & 101000001\n",
    "  ------\n",
    "   001000001\n",
    "```"
   ]
  },
  {
   "cell_type": "code",
   "execution_count": null,
   "metadata": {
    "colab": {
     "base_uri": "https://localhost:8080/",
     "height": 53
    },
    "executionInfo": {
     "elapsed": 286,
     "status": "ok",
     "timestamp": 1621838584764,
     "user": {
      "displayName": "반치영",
      "photoUrl": "",
      "userId": "02232750095748228317"
     },
     "user_tz": -540
    },
    "id": "RXQvpBPV_tYR",
    "outputId": "c5cf92ff-d1de-4b73-e212-9050a4894417"
   },
   "outputs": [
    {
     "data": {
      "text/plain": [
       "65"
      ]
     },
     "metadata": {
      "tags": []
     },
     "output_type": "display_data"
    },
    {
     "data": {
      "application/vnd.google.colaboratory.intrinsic+json": {
       "type": "string"
      },
      "text/plain": [
       "'01000001'"
      ]
     },
     "metadata": {
      "tags": []
     },
     "output_type": "display_data"
    }
   ],
   "source": [
    "display( a & b )\n",
    "display('{:08b}'.format(a & b))"
   ]
  },
  {
   "cell_type": "markdown",
   "metadata": {
    "id": "q2cjqKt_BSKo"
   },
   "source": [
    "두 수에 대해서 OR 연산\n",
    "- 비트 연산을 하는 경우에는 뒤에서부터 하나씩 계산\n",
    "\n",
    "```\n",
    "     1111011\n",
    " & 101000001\n",
    "  ------\n",
    "   101111011\n",
    "```"
   ]
  },
  {
   "cell_type": "code",
   "execution_count": null,
   "metadata": {
    "colab": {
     "base_uri": "https://localhost:8080/",
     "height": 53
    },
    "executionInfo": {
     "elapsed": 425,
     "status": "ok",
     "timestamp": 1621837196652,
     "user": {
      "displayName": "반치영",
      "photoUrl": "",
      "userId": "02232750095748228317"
     },
     "user_tz": -540
    },
    "id": "oAaXK9URASbh",
    "outputId": "42ed11e9-0db4-4a89-fcea-9b1a23444a6a"
   },
   "outputs": [
    {
     "data": {
      "text/plain": [
       "379"
      ]
     },
     "metadata": {
      "tags": []
     },
     "output_type": "display_data"
    },
    {
     "data": {
      "application/vnd.google.colaboratory.intrinsic+json": {
       "type": "string"
      },
      "text/plain": [
       "'0b101111011'"
      ]
     },
     "metadata": {
      "tags": []
     },
     "output_type": "display_data"
    }
   ],
   "source": [
    "display( a | b )\n",
    "display('{:08b}'.format( a | b))"
   ]
  },
  {
   "cell_type": "markdown",
   "metadata": {
    "id": "qkx4qB4SBr3Q"
   },
   "source": [
    "두 수에 대해서 XOR 연산\n",
    "- 비트 연산을 하는 경우에는 뒤에서부터 하나씩 계산\n",
    "\n",
    "```\n",
    "     1111011\n",
    " & 101000001\n",
    "  ------\n",
    "   100111010\n",
    "```"
   ]
  },
  {
   "cell_type": "code",
   "execution_count": null,
   "metadata": {
    "colab": {
     "base_uri": "https://localhost:8080/",
     "height": 53
    },
    "executionInfo": {
     "elapsed": 626,
     "status": "ok",
     "timestamp": 1621837201773,
     "user": {
      "displayName": "반치영",
      "photoUrl": "",
      "userId": "02232750095748228317"
     },
     "user_tz": -540
    },
    "id": "VjDOuJ0lBja6",
    "outputId": "3570cedd-4a55-4249-d141-9aae5422329e"
   },
   "outputs": [
    {
     "data": {
      "text/plain": [
       "314"
      ]
     },
     "metadata": {
      "tags": []
     },
     "output_type": "display_data"
    },
    {
     "data": {
      "application/vnd.google.colaboratory.intrinsic+json": {
       "type": "string"
      },
      "text/plain": [
       "'0b100111010'"
      ]
     },
     "metadata": {
      "tags": []
     },
     "output_type": "display_data"
    }
   ],
   "source": [
    "display( a ^ b )\n",
    "display('{:08b}'.format( a ^ b))"
   ]
  },
  {
   "cell_type": "markdown",
   "metadata": {
    "id": "bujcIoWrDneM"
   },
   "source": [
    "not 연산은 타입에 따라서 다르게 결정\n",
    "- 자료형의 길이와 signed와 unsigned에 따라서 결과가 달라진다.\n",
    "- 파이썬의 방식은 1을 더한다음 음수를 취해주는 것"
   ]
  },
  {
   "cell_type": "code",
   "execution_count": null,
   "metadata": {
    "colab": {
     "base_uri": "https://localhost:8080/",
     "height": 89
    },
    "executionInfo": {
     "elapsed": 282,
     "status": "ok",
     "timestamp": 1621838663522,
     "user": {
      "displayName": "반치영",
      "photoUrl": "",
      "userId": "02232750095748228317"
     },
     "user_tz": -540
    },
    "id": "oo4h3SmkDBbU",
    "outputId": "59cbc1d9-b127-4a80-9d27-fee416fe62a6"
   },
   "outputs": [
    {
     "data": {
      "text/plain": [
       "123"
      ]
     },
     "metadata": {
      "tags": []
     },
     "output_type": "display_data"
    },
    {
     "data": {
      "application/vnd.google.colaboratory.intrinsic+json": {
       "type": "string"
      },
      "text/plain": [
       "'0000000001111011'"
      ]
     },
     "metadata": {
      "tags": []
     },
     "output_type": "display_data"
    },
    {
     "data": {
      "text/plain": [
       "-124"
      ]
     },
     "metadata": {
      "tags": []
     },
     "output_type": "display_data"
    },
    {
     "data": {
      "application/vnd.google.colaboratory.intrinsic+json": {
       "type": "string"
      },
      "text/plain": [
       "'-000000001111100'"
      ]
     },
     "metadata": {
      "tags": []
     },
     "output_type": "display_data"
    }
   ],
   "source": [
    "display( a )\n",
    "display('{:016b}'.format(a))\n",
    "display( ~a )\n",
    "display('{:016b}'.format(~a))"
   ]
  },
  {
   "cell_type": "markdown",
   "metadata": {
    "id": "mnOxSilOFcEA"
   },
   "source": [
    "# 파이썬의 비트 연산(2)\n",
    "- shift\n",
    "  - 각 비트를 왼쪽, 오른쪽으로 미는 연산\n",
    "  - 밀려서 비어있는 비트는 전부 0으로 채워진다\n",
    "  - <<(left shift), >>(right shift)\n",
    "  \n",
    "- shift 연산의 경우\n",
    "  - '<<'인 경우 $a \\times 2^b$\n",
    "  - '>>'인 경우 $a / 2^b$"
   ]
  },
  {
   "cell_type": "code",
   "execution_count": null,
   "metadata": {
    "colab": {
     "base_uri": "https://localhost:8080/",
     "height": 89
    },
    "executionInfo": {
     "elapsed": 401,
     "status": "ok",
     "timestamp": 1621838757596,
     "user": {
      "displayName": "반치영",
      "photoUrl": "",
      "userId": "02232750095748228317"
     },
     "user_tz": -540
    },
    "id": "Ty3s2_qXD9K8",
    "outputId": "41254074-c86b-481e-f594-8275bf24c674"
   },
   "outputs": [
    {
     "data": {
      "application/vnd.google.colaboratory.intrinsic+json": {
       "type": "string"
      },
      "text/plain": [
       "'1 = 00000001'"
      ]
     },
     "metadata": {
      "tags": []
     },
     "output_type": "display_data"
    },
    {
     "data": {
      "application/vnd.google.colaboratory.intrinsic+json": {
       "type": "string"
      },
      "text/plain": [
       "'2 = 00000010'"
      ]
     },
     "metadata": {
      "tags": []
     },
     "output_type": "display_data"
    },
    {
     "data": {
      "application/vnd.google.colaboratory.intrinsic+json": {
       "type": "string"
      },
      "text/plain": [
       "'4 = 00000100'"
      ]
     },
     "metadata": {
      "tags": []
     },
     "output_type": "display_data"
    },
    {
     "data": {
      "application/vnd.google.colaboratory.intrinsic+json": {
       "type": "string"
      },
      "text/plain": [
       "'8 = 00001000'"
      ]
     },
     "metadata": {
      "tags": []
     },
     "output_type": "display_data"
    }
   ],
   "source": [
    "a = 1\n",
    "display('{} = {:08b}'.format(a,a))\n",
    "display('{} = {:08b}'.format(a << 1,a << 1))\n",
    "display('{} = {:08b}'.format(a << 2,a << 2))\n",
    "display('{} = {:08b}'.format(a << 3,a << 3))"
   ]
  },
  {
   "cell_type": "code",
   "execution_count": null,
   "metadata": {
    "colab": {
     "base_uri": "https://localhost:8080/",
     "height": 89
    },
    "executionInfo": {
     "elapsed": 276,
     "status": "ok",
     "timestamp": 1621838782713,
     "user": {
      "displayName": "반치영",
      "photoUrl": "",
      "userId": "02232750095748228317"
     },
     "user_tz": -540
    },
    "id": "CKdi2JY-FtsR",
    "outputId": "b21c0529-255a-435d-e92f-995f2c131dbd"
   },
   "outputs": [
    {
     "data": {
      "application/vnd.google.colaboratory.intrinsic+json": {
       "type": "string"
      },
      "text/plain": [
       "'8 = 00001000'"
      ]
     },
     "metadata": {
      "tags": []
     },
     "output_type": "display_data"
    },
    {
     "data": {
      "application/vnd.google.colaboratory.intrinsic+json": {
       "type": "string"
      },
      "text/plain": [
       "'4 = 00000100'"
      ]
     },
     "metadata": {
      "tags": []
     },
     "output_type": "display_data"
    },
    {
     "data": {
      "application/vnd.google.colaboratory.intrinsic+json": {
       "type": "string"
      },
      "text/plain": [
       "'2 = 00000010'"
      ]
     },
     "metadata": {
      "tags": []
     },
     "output_type": "display_data"
    },
    {
     "data": {
      "application/vnd.google.colaboratory.intrinsic+json": {
       "type": "string"
      },
      "text/plain": [
       "'1 = 00000001'"
      ]
     },
     "metadata": {
      "tags": []
     },
     "output_type": "display_data"
    }
   ],
   "source": [
    "a = 8\n",
    "display('{} = {:08b}'.format(a,a))\n",
    "display('{} = {:08b}'.format(a >> 1,a >> 1))\n",
    "display('{} = {:08b}'.format(a >> 2,a >> 2))\n",
    "display('{} = {:08b}'.format(a >> 3,a >> 3))"
   ]
  },
  {
   "cell_type": "markdown",
   "metadata": {
    "id": "q-5u6tbOLfG6"
   },
   "source": [
    "# 비트마스크\n",
    "- 집합을 표현하는 경우에도 유용함\n",
    "- 파이썬은 set 이라는 타입을 지원하지만, 더 적은 크기로 더 빠르게 집합을 다룰 수 있다.\n",
    "- 아주 큰 수는 표현불가\n",
    "  - 집합은 중복되는 수를 허용하지 않는다\n",
    "  - 집합은 순서가 없다\n",
    "  - 파이썬의 set 타입도 이러한 특징을 만족한다\n",
    "  - 비트연산도 이러한 특징을 만족한다.\n",
    "\n",
    "```\n",
    "A = {1, 2, 3, 4}\n",
    "이런 경우 각 숫자를 비트의 자릿수에 대응 시킨다\n",
    "```\n",
    "\n",
    "- 그러면 다음과 같이 30이라는 숫자 하나로 집합을 표현 할 수 있다.\n",
    "$$\n",
    "  A = \\left\\{1, 2, 3, 4 \\right\\} = 2^1 + 2^2 + 2^3 + 2^4 = 30\n",
    "$$"
   ]
  },
  {
   "cell_type": "code",
   "execution_count": null,
   "metadata": {
    "colab": {
     "base_uri": "https://localhost:8080/",
     "height": 35
    },
    "executionInfo": {
     "elapsed": 271,
     "status": "ok",
     "timestamp": 1621840119525,
     "user": {
      "displayName": "반치영",
      "photoUrl": "",
      "userId": "02232750095748228317"
     },
     "user_tz": -540
    },
    "id": "qQ29yGtuJFC5",
    "outputId": "27c8d0e3-b23d-42fd-96b3-f2e469bc6f19"
   },
   "outputs": [
    {
     "data": {
      "application/vnd.google.colaboratory.intrinsic+json": {
       "type": "string"
      },
      "text/plain": [
       "'30 = 00011110'"
      ]
     },
     "metadata": {
      "tags": []
     },
     "output_type": "display_data"
    }
   ],
   "source": [
    "display('{} = {:08b}'.format(30,30))"
   ]
  },
  {
   "cell_type": "markdown",
   "metadata": {
    "id": "QPb50zggNRNy"
   },
   "source": [
    "집합 {2, 4, 7, 10}을 표현해 보자"
   ]
  },
  {
   "cell_type": "code",
   "execution_count": null,
   "metadata": {
    "colab": {
     "base_uri": "https://localhost:8080/",
     "height": 35
    },
    "executionInfo": {
     "elapsed": 263,
     "status": "ok",
     "timestamp": 1621840469960,
     "user": {
      "displayName": "반치영",
      "photoUrl": "",
      "userId": "02232750095748228317"
     },
     "user_tz": -540
    },
    "id": "uHT0iTAbNEF5",
    "outputId": "13d38617-1eff-4808-ea1c-72e6ad97e36e"
   },
   "outputs": [
    {
     "data": {
      "application/vnd.google.colaboratory.intrinsic+json": {
       "type": "string"
      },
      "text/plain": [
       "'1172 = 10010010100'"
      ]
     },
     "metadata": {
      "tags": []
     },
     "output_type": "display_data"
    }
   ],
   "source": [
    "A = 2 ** 2 + 2 ** 4 + 2 ** 7 + 2 ** 10\n",
    "display('{} = {:16b}'.format(A,A))"
   ]
  },
  {
   "cell_type": "markdown",
   "metadata": {
    "id": "8AXyi78UOasb"
   },
   "source": [
    "단점은 아주 큰 집합은 표현할 수 없다\n",
    "- 보통은 interger의 크기로 32bit, 64bit를 사용\n",
    "- signed형 이라면 31bit, 63bit로 표현\n",
    "- 이 bit를 넘어가는 수는 표현할 수 없다\n",
    "\n",
    "$$\n",
    "\\begin{align}\n",
    "  2^{32} &= 4,294,967,296   \\\\\n",
    "  2^{64} &= 18,446,744,073,709,551,616\n",
    "\\end{align}\n",
    "$$"
   ]
  },
  {
   "cell_type": "markdown",
   "metadata": {
    "id": "qDTIzDHAP4WG"
   },
   "source": [
    "## 검색\n",
    "- 해당 집합의 원소가 있는지 확인\n",
    "- mask\n",
    "- `&`연산자를 사용"
   ]
  },
  {
   "cell_type": "code",
   "execution_count": null,
   "metadata": {
    "colab": {
     "base_uri": "https://localhost:8080/",
     "height": 107
    },
    "executionInfo": {
     "elapsed": 271,
     "status": "ok",
     "timestamp": 1621841701332,
     "user": {
      "displayName": "반치영",
      "photoUrl": "",
      "userId": "02232750095748228317"
     },
     "user_tz": -540
    },
    "id": "M59W7xjJN_Fl",
    "outputId": "388ffb99-8288-4c35-a1fe-aed10b2e5eee"
   },
   "outputs": [
    {
     "data": {
      "application/vnd.google.colaboratory.intrinsic+json": {
       "type": "string"
      },
      "text/plain": [
       "'1172 = 0000010010010100'"
      ]
     },
     "metadata": {
      "tags": []
     },
     "output_type": "display_data"
    },
    {
     "data": {
      "application/vnd.google.colaboratory.intrinsic+json": {
       "type": "string"
      },
      "text/plain": [
       "'0000010010010100(1172) -> 0000000000000000(0)'"
      ]
     },
     "metadata": {
      "tags": []
     },
     "output_type": "display_data"
    },
    {
     "data": {
      "application/vnd.google.colaboratory.intrinsic+json": {
       "type": "string"
      },
      "text/plain": [
       "'0000010010010100(1172) -> 0000000000000000(0)'"
      ]
     },
     "metadata": {
      "tags": []
     },
     "output_type": "display_data"
    },
    {
     "data": {
      "application/vnd.google.colaboratory.intrinsic+json": {
       "type": "string"
      },
      "text/plain": [
       "'0000010010010100(1172) -> 0000000000000100(4)'"
      ]
     },
     "metadata": {
      "tags": []
     },
     "output_type": "display_data"
    },
    {
     "data": {
      "application/vnd.google.colaboratory.intrinsic+json": {
       "type": "string"
      },
      "text/plain": [
       "'0000010010010100(1172) -> 0000000000010000(16)'"
      ]
     },
     "metadata": {
      "tags": []
     },
     "output_type": "display_data"
    }
   ],
   "source": [
    "A = 1172\n",
    "display('{} = {:016b}'.format(A,A))\n",
    "\n",
    "# 0이 포함되어 있는지 검사\n",
    "display('{:016b}({}) -> {:016b}({})'.format(A,A,A & 2 ** 0, A & 2 ** 0))\n",
    "\n",
    "# 1이 포함되어 있는지 검사\n",
    "display('{:016b}({}) -> {:016b}({})'.format(A,A,A & 2 ** 1, A & 2 ** 1))\n",
    "\n",
    "# 2가 포함되어 있는지 검사\n",
    "display('{:016b}({}) -> {:016b}({})'.format(A,A,A & 2 ** 2, A & 2 ** 2))\n",
    "\n",
    "# 4가 포함되어 있는지 검사\n",
    "display('{:016b}({}) -> {:016b}({})'.format(A,A,A & 2 ** 4, A & 2 ** 4))"
   ]
  },
  {
   "cell_type": "markdown",
   "metadata": {
    "id": "mpXOAU9rRTAC"
   },
   "source": [
    ">`&`로 마스킹 한 경우에 결과가 0이면, 해당 원소가 없다는 의미 \\\\\n",
    ">0이 아닌 값이 나온다면 해당 원소가 집합에 포함되어 있다는 의미"
   ]
  },
  {
   "cell_type": "markdown",
   "metadata": {
    "id": "3A2_IK0MRnGi"
   },
   "source": [
    "## 추가\n",
    "- 집합에 원소를 추가\n",
    "- `|`을 사용\n",
    "\n",
    "$$\n",
    "  \\left\\{2, 4, 7, 10 \\right\\} = 1172\n",
    "$$"
   ]
  },
  {
   "cell_type": "code",
   "execution_count": null,
   "metadata": {
    "colab": {
     "base_uri": "https://localhost:8080/",
     "height": 89
    },
    "executionInfo": {
     "elapsed": 285,
     "status": "ok",
     "timestamp": 1621841838358,
     "user": {
      "displayName": "반치영",
      "photoUrl": "",
      "userId": "02232750095748228317"
     },
     "user_tz": -540
    },
    "id": "NSkglnmLQKQR",
    "outputId": "92c592a9-3809-46aa-8b56-e38b08f4ec78"
   },
   "outputs": [
    {
     "data": {
      "application/vnd.google.colaboratory.intrinsic+json": {
       "type": "string"
      },
      "text/plain": [
       "'1172 = 0000010010010100'"
      ]
     },
     "metadata": {
      "tags": []
     },
     "output_type": "display_data"
    },
    {
     "data": {
      "application/vnd.google.colaboratory.intrinsic+json": {
       "type": "string"
      },
      "text/plain": [
       "'0000010010010100(1172) -> 0000010010010110(1174)'"
      ]
     },
     "metadata": {
      "tags": []
     },
     "output_type": "display_data"
    },
    {
     "data": {
      "application/vnd.google.colaboratory.intrinsic+json": {
       "type": "string"
      },
      "text/plain": [
       "'0000010010010100(1172) -> 0000010010010100(1172)'"
      ]
     },
     "metadata": {
      "tags": []
     },
     "output_type": "display_data"
    },
    {
     "data": {
      "application/vnd.google.colaboratory.intrinsic+json": {
       "type": "string"
      },
      "text/plain": [
       "'10010010100(1172) -> 10000000000000000000000000000000000000000000000000000000000000000000000000000000000000000010010010100(1267650600228229401496703206548)'"
      ]
     },
     "metadata": {
      "tags": []
     },
     "output_type": "display_data"
    }
   ],
   "source": [
    "A = 1172\n",
    "display('{} = {:016b}'.format(A,A))\n",
    "\n",
    "# 1을 추가하는 경우\n",
    "display('{:016b}({}) -> {:016b}({})'.format(A,A,A | 2 ** 1, A | 2 ** 1))\n",
    "\n",
    "# 2를 추가하는 경우(중복)\n",
    "display('{:016b}({}) -> {:016b}({})'.format(A,A,A | 2 ** 2, A | 2 ** 2))\n",
    "\n",
    "# 파이썬은 수의 범위가 사실상 없기 때문에 제한없이 추가가 가능 하긴 하다\n",
    "# 그러나, 수가 커지면 연산 시간은 오래걸릴 수 있다.\n",
    "display('{:b}({}) -> {:0b}({})'.format(A,A,A | 2 ** 100, A | 2 ** 100))"
   ]
  },
  {
   "cell_type": "markdown",
   "metadata": {
    "id": "4Gzafwq7TSR4"
   },
   "source": [
    "> 마스킹을 `|`, `&`를 사용하느냐에 따라서 다른 결과를 얻울 수 있다.\n"
   ]
  },
  {
   "cell_type": "markdown",
   "metadata": {
    "id": "aSMtjXaDUXLS"
   },
   "source": [
    "## 삭제\n",
    "- 원소를 삭제하는 경우에는 `~`연산을 응용"
   ]
  },
  {
   "cell_type": "code",
   "execution_count": null,
   "metadata": {
    "colab": {
     "base_uri": "https://localhost:8080/",
     "height": 71
    },
    "executionInfo": {
     "elapsed": 288,
     "status": "ok",
     "timestamp": 1621842233554,
     "user": {
      "displayName": "반치영",
      "photoUrl": "",
      "userId": "02232750095748228317"
     },
     "user_tz": -540
    },
    "id": "VRUMlqdCUTqk",
    "outputId": "5ac4037e-9fef-4743-c17a-6527e1e6f8dd"
   },
   "outputs": [
    {
     "data": {
      "application/vnd.google.colaboratory.intrinsic+json": {
       "type": "string"
      },
      "text/plain": [
       "'1172 = 0000010010010100'"
      ]
     },
     "metadata": {
      "tags": []
     },
     "output_type": "display_data"
    },
    {
     "data": {
      "application/vnd.google.colaboratory.intrinsic+json": {
       "type": "string"
      },
      "text/plain": [
       "'0000010010010100(1172) -> 0000010010010000(1168)'"
      ]
     },
     "metadata": {
      "tags": []
     },
     "output_type": "display_data"
    },
    {
     "data": {
      "application/vnd.google.colaboratory.intrinsic+json": {
       "type": "string"
      },
      "text/plain": [
       "'0000010010010100(1172) -> 0000010010010100(1172)'"
      ]
     },
     "metadata": {
      "tags": []
     },
     "output_type": "display_data"
    }
   ],
   "source": [
    "A = 1172\n",
    "display('{} = {:016b}'.format(A,A))\n",
    "\n",
    "# 원소 2를 삭제\n",
    "display('{:016b}({}) -> {:016b}({})'.format(A,A,A & ~(1 << 2), A & ~(1 << 2)))\n",
    "\n",
    "# 원소 1을 삭제(없는 원소를 삭제하는 경우)\n",
    "display('{:016b}({}) -> {:016b}({})'.format(A,A,A & ~(1 << 1), A & ~(1 << 1)))\n",
    "\n"
   ]
  },
  {
   "cell_type": "markdown",
   "metadata": {
    "id": "DQqM6tQvVjd3"
   },
   "source": [
    "## 토글\n",
    "- 1을 0으로, 0을 1로 바꿔주는 것을 `토글`이라고 한다.\n",
    "- 해당 비트를 켜거나 끌 때 사용"
   ]
  },
  {
   "cell_type": "code",
   "execution_count": null,
   "metadata": {
    "colab": {
     "base_uri": "https://localhost:8080/",
     "height": 71
    },
    "executionInfo": {
     "elapsed": 293,
     "status": "ok",
     "timestamp": 1621842459359,
     "user": {
      "displayName": "반치영",
      "photoUrl": "",
      "userId": "02232750095748228317"
     },
     "user_tz": -540
    },
    "id": "UWhPY7NcUkyy",
    "outputId": "58ef333d-8b0c-4ec7-f139-f155717e4985"
   },
   "outputs": [
    {
     "data": {
      "application/vnd.google.colaboratory.intrinsic+json": {
       "type": "string"
      },
      "text/plain": [
       "'1172 = 0000010010010100'"
      ]
     },
     "metadata": {
      "tags": []
     },
     "output_type": "display_data"
    },
    {
     "data": {
      "application/vnd.google.colaboratory.intrinsic+json": {
       "type": "string"
      },
      "text/plain": [
       "'0000010010010100(1172) -> 0000010010010110(1174)'"
      ]
     },
     "metadata": {
      "tags": []
     },
     "output_type": "display_data"
    },
    {
     "data": {
      "application/vnd.google.colaboratory.intrinsic+json": {
       "type": "string"
      },
      "text/plain": [
       "'0000010010010100(1172) -> 0000010010010000(1168)'"
      ]
     },
     "metadata": {
      "tags": []
     },
     "output_type": "display_data"
    }
   ],
   "source": [
    "A = 1172\n",
    "display('{} = {:016b}'.format(A,A))\n",
    "\n",
    "# 1을 토글\n",
    "display('{:016b}({}) -> {:016b}({})'.format(A,A,A ^ (1 << 1), A ^ (1 << 1)))\n",
    "\n",
    "# 2를 토글\n",
    "display('{:016b}({}) -> {:016b}({})'.format(A,A,A ^ (1 << 2), A ^ (1 << 2)))"
   ]
  },
  {
   "cell_type": "markdown",
   "metadata": {
    "id": "WjLnLHg3WREj"
   },
   "source": [
    "> 토글을 하게 되면 존재하는 수는 삭제되고, 없는 수는 추가가 된다"
   ]
  },
  {
   "cell_type": "markdown",
   "metadata": {
    "id": "10bKQwfGWiMm"
   },
   "source": [
    "전체 집합과 공집합은?\n",
    "- 전체 집합은 자료의 수가 n개라면 $2^n -1$\n",
    "- 공집합은 0"
   ]
  },
  {
   "cell_type": "code",
   "execution_count": null,
   "metadata": {
    "colab": {
     "base_uri": "https://localhost:8080/",
     "height": 35
    },
    "executionInfo": {
     "elapsed": 697,
     "status": "ok",
     "timestamp": 1621842727050,
     "user": {
      "displayName": "반치영",
      "photoUrl": "",
      "userId": "02232750095748228317"
     },
     "user_tz": -540
    },
    "id": "ogTGcDTaV1FD",
    "outputId": "d17dfdd9-8ef0-42d7-dbc1-64a22c48c4c9"
   },
   "outputs": [
    {
     "data": {
      "text/plain": [
       "15"
      ]
     },
     "metadata": {
      "tags": []
     },
     "output_type": "display_data"
    }
   ],
   "source": [
    "display( (1<< 4) -1)"
   ]
  },
  {
   "cell_type": "markdown",
   "metadata": {
    "id": "xw-ITrnxXOgL"
   },
   "source": [
    "자료의 우선순위에 주의!\n",
    "- 비트 연산을 하는 경우에는 우선순위를 고려하기 보단, ()를 이용해서 우선순위를 지정하자"
   ]
  },
  {
   "cell_type": "code",
   "execution_count": null,
   "metadata": {
    "colab": {
     "base_uri": "https://localhost:8080/",
     "height": 53
    },
    "executionInfo": {
     "elapsed": 279,
     "status": "ok",
     "timestamp": 1621842801089,
     "user": {
      "displayName": "반치영",
      "photoUrl": "",
      "userId": "02232750095748228317"
     },
     "user_tz": -540
    },
    "id": "p8qGvrSzW6DR",
    "outputId": "4d756f92-dba1-447e-8dbd-9ff586dd58f8"
   },
   "outputs": [
    {
     "data": {
      "text/plain": [
       "15"
      ]
     },
     "metadata": {
      "tags": []
     },
     "output_type": "display_data"
    },
    {
     "data": {
      "text/plain": [
       "8"
      ]
     },
     "metadata": {
      "tags": []
     },
     "output_type": "display_data"
    }
   ],
   "source": [
    "display( (1<< 4) -1)\n",
    "display( 1<< 4 -1)"
   ]
  },
  {
   "cell_type": "markdown",
   "metadata": {
    "id": "i8OpYj6uZ7fS"
   },
   "source": [
    "# 문제풀이"
   ]
  },
  {
   "cell_type": "markdown",
   "metadata": {
    "id": "Pa-pgAGoZ9Le"
   },
   "source": [
    "## 부분수열의 합(1182)\n",
    "- N개의 정수로 이루어진 수열이 주어진다.\n",
    "  - 이때 N의 범위는 $ 1 \\le N \\le 20 = 2^{20} $,  $2^{20}$까지 표현이 가능하므로, 비트를 이용한 집합연산을 해볼 수 있다\n",
    "  - 부분수열의 개수(전체집합)은 $2^{20} -1 = 1,048,575 $이고, 합을 구해야 하므로 시간복잡도 $O(2^{20}\\cdot20) = 10,971,520$\n",
    "\n",
    "- 크기가 양수인 부분수열이니까, 크기가 0인 부분수열은 제외\n",
    "\n",
    "- 모든 부분수열을 구해보면 된다"
   ]
  },
  {
   "cell_type": "code",
   "execution_count": null,
   "metadata": {
    "colab": {
     "base_uri": "https://localhost:8080/"
    },
    "executionInfo": {
     "elapsed": 4,
     "status": "ok",
     "timestamp": 1621922567785,
     "user": {
      "displayName": "반치영",
      "photoUrl": "",
      "userId": "02232750095748228317"
     },
     "user_tz": -540
    },
    "id": "zDZfga-tXS7O",
    "outputId": "2283648d-fcd9-452d-8f1d-41b450516129"
   },
   "outputs": [
    {
     "name": "stdout",
     "output_type": "stream",
     "text": [
      "1\n"
     ]
    }
   ],
   "source": [
    "n, s = 5, 0\n",
    "numbers = [-7, -3, -2, 5, 8]\n",
    "# n, s = map(int, input().split())\n",
    "# numbers = list(map(int, input().split()))\n",
    "ans = 0\n",
    "# 비트마스크를 통해 집합에 포함되어 있는지 확인하기\n",
    "# i자리에 k가 들어있는지 확인하기\n",
    "for i in range(1,(1 << n)):   # 2^n까지\n",
    "  ssum = 0\n",
    "  for k in range(n):\n",
    "    if (i & (1 << k)):\n",
    "  #     print('{:0b}({})'.format(i & (1 << k), numbers[k]))\n",
    "  # print()\n",
    "      ssum += numbers[k]\n",
    "  if ssum == s: ans += 1\n",
    "print(ans)\n",
    "  "
   ]
  },
  {
   "cell_type": "markdown",
   "metadata": {
    "id": "0hbp9G1yIH2W"
   },
   "source": [
    "## 스타트와 링크(14889)\n",
    "- 두 팀으로 나누어서 차이의 최소값을 구하는 문제\n",
    "- 각 사람을 두 팀중에 하나로 나누는 문제이기 때문에\n",
    "  - 비트마스크를 이용해서 비트가 0인 사람은 0번팀, 1인 사람은 1번팀 이라고하고,\n",
    "  전체 경우의 수를 순회할 수 있다"
   ]
  },
  {
   "cell_type": "code",
   "execution_count": null,
   "metadata": {
    "colab": {
     "base_uri": "https://localhost:8080/"
    },
    "executionInfo": {
     "elapsed": 1131,
     "status": "ok",
     "timestamp": 1621926194048,
     "user": {
      "displayName": "반치영",
      "photoUrl": "",
      "userId": "02232750095748228317"
     },
     "user_tz": -540
    },
    "id": "8_4EgfdfjH4S",
    "outputId": "8cdd6f23-3bc6-4529-93e6-6d97a7efe2de"
   },
   "outputs": [
    {
     "name": "stdout",
     "output_type": "stream",
     "text": [
      "0\n"
     ]
    }
   ],
   "source": [
    "# import sys\n",
    "# n = int(sys.stdin.readline())\n",
    "# arr = [ list(map(int, sys.stdin.readline().split())) for _ in range(n)]\n",
    "\n",
    "n = 4\n",
    "arr = [\n",
    "  [0, 1, 2, 3],\n",
    "  [4, 0, 5, 6],\n",
    "  [7, 1, 0, 2],\n",
    "  [3, 4, 5, 0],\n",
    "]\n",
    "# n = 6\n",
    "# arr = [[0,1,2,3,4,5],[1,0,2,3,4,5],[1,2,0,3,4,5],[1,2,3,0,4,5,],[1,2,3,4,0,5],[1,2,3,4,5,0]]\n",
    "answer = 9999\n",
    "for i in range((1 << n)):\n",
    "  # print('{:04b}({})'.format(i,i))\n",
    "  team1 = []\n",
    "  team2 = []\n",
    "  force1 = 0\n",
    "  force2 = 0\n",
    "  ret = 9999\n",
    "  for j in range(n):\n",
    "    # print( '{:04b}&{:04b} = {:} & {:}'.format(i,(1 << j), i , (1 << j)))\n",
    "    if (i & (1 << j)):\n",
    "      team2 += [j]\n",
    "    \n",
    "    else:\n",
    "      team1 += [j]\n",
    "    \n",
    "    if len(team1) > n/2 or len(team2) > n/2:\n",
    "      break\n",
    "\n",
    "  if len(team1) == n/2 and len(team2) == n/2:\n",
    "    for p in range(len(team1)):\n",
    "      for q in range(p,len(team1)):\n",
    "        force1 += arr[team1[p]][team1[q]]\n",
    "        force1 += arr[team1[q]][team1[p]]\n",
    "    for p in range(len(team2)):\n",
    "      for q in range(p,len(team2)):\n",
    "        force2 += arr[team2[p]][team2[q]]\n",
    "        force2 += arr[team2[q]][team2[p]]\n",
    "  \n",
    "    ret = abs(force1 - force2)\n",
    "  if answer > ret:\n",
    "    answer = ret\n",
    "\n",
    "print(answer)\n"
   ]
  },
  {
   "cell_type": "markdown",
   "metadata": {
    "id": "ds-w5qgbVc81"
   },
   "source": [
    "## 종이조각(14391)\n",
    "- $2^{NM}$개의 상태비트를 나누어 보면 된다\n",
    "- 가로와 세로를 구분\n",
    "  - 0이면 가로, 1이면 세로"
   ]
  },
  {
   "cell_type": "code",
   "execution_count": 1,
   "metadata": {
    "colab": {
     "base_uri": "https://localhost:8080/"
    },
    "executionInfo": {
     "elapsed": 7770,
     "status": "ok",
     "timestamp": 1622009007198,
     "user": {
      "displayName": "반치영",
      "photoUrl": "",
      "userId": "02232750095748228317"
     },
     "user_tz": -540
    },
    "id": "UKrZayRuPRoU",
    "outputId": "0cf23506-64bd-4f73-b8b0-4f0e4fc991ab"
   },
   "outputs": [
    {
     "name": "stdout",
     "output_type": "stream",
     "text": [
      "4 3\n",
      "1131\n"
     ]
    }
   ],
   "source": [
    "n, m = 4,3\n",
    "arr = [[0,0,1],[0,1,0],[1,1,1],[1,0,0]]\n",
    "\n",
    "# n, m = map(int,input().split())\n",
    "# for _ in range(n):\n",
    "#   arr.append(list(map(int, input())))\n",
    "\n",
    "sum2 = 0\n",
    "for t in range( 1 << (n*m) ):\n",
    "  # print('{:04b}({})'.format(t,t))\n",
    "  ssum = 0\n",
    "  # 먼저 열부터\n",
    "  for i in range(n):\n",
    "    cur = 0\n",
    "    for j in range(m):\n",
    "      k = i*m+j\n",
    "      if ( t & (1 << k) ) == 0:\n",
    "        cur = cur * 10 + arr[i][j]\n",
    "      else:\n",
    "        ssum += cur\n",
    "        cur = 0\n",
    "    ssum += cur\n",
    "    if sum2 < ssum:\n",
    "      sum2 = ssum\n",
    "  # 행 계산\n",
    "  for i in range(m):\n",
    "    cur = 0\n",
    "    for j in range(n):\n",
    "      k = j*m+i\n",
    "      if ( t & (1 << k) ):\n",
    "        cur = cur * 10 + arr[j][i]\n",
    "      else:\n",
    "        ssum += cur\n",
    "        cur = 0\n",
    "    ssum += cur\n",
    "    if sum2 < ssum:\n",
    "      sum2 = ssum\n",
    "print(sum2)\n"
   ]
  },
  {
   "cell_type": "code",
   "execution_count": 4,
   "metadata": {
    "colab": {
     "base_uri": "https://localhost:8080/"
    },
    "executionInfo": {
     "elapsed": 313,
     "status": "ok",
     "timestamp": 1622009381251,
     "user": {
      "displayName": "반치영",
      "photoUrl": "",
      "userId": "02232750095748228317"
     },
     "user_tz": -540
    },
    "id": "Su3sZvD4s_2n",
    "outputId": "bffbd12f-75c2-4c73-ee32-b2ac5b9f03a2"
   },
   "outputs": [
    {
     "name": "stdout",
     "output_type": "stream",
     "text": [
      "1131\n"
     ]
    }
   ],
   "source": [
    "n, m = 4,3\n",
    "arr = [[0,0,1],[0,1,0],[1,1,1],[1,0,0]]\n",
    "\n",
    "# n, m = map(int,input().split())\n",
    "# for _ in range(n):\n",
    "#   arr.append(list(map(int, input())))\n",
    "\n",
    "ans = 0\n",
    "for t in range( 1 << (n*m) ):\n",
    "  # print('{:04b}({})'.format(t,t))\n",
    "  ssum = 0\n",
    "  # 먼저 열부터\n",
    "  for i in range(n):\n",
    "    cur = 0\n",
    "    for j in range(m):\n",
    "      k = i * m + j\n",
    "      if ( t & (1 << k) ) == 0:\n",
    "        cur = cur * 10 + arr[i][j]\n",
    "      else:\n",
    "        ssum += cur\n",
    "        cur = 0\n",
    "    ssum += cur\n",
    "\n",
    "  # 행 계산\n",
    "  for i in range(m):\n",
    "    cur = 0\n",
    "    for j in range(n):\n",
    "      k = j * m + i\n",
    "      if ( t & (1 << k) ):\n",
    "        cur = cur * 10 + arr[j][i]\n",
    "      else:\n",
    "        ssum += cur\n",
    "        cur = 0\n",
    "    ssum += cur\n",
    "  ans = max(ans, ssum)\n",
    "print(ans)\n"
   ]
  },
  {
   "cell_type": "code",
   "execution_count": null,
   "metadata": {
    "id": "jwwOEHUGSt4Z"
   },
   "outputs": [],
   "source": []
  }
 ],
 "metadata": {
  "colab": {
   "authorship_tag": "ABX9TyN7rl87EtiEMkCEJKqj2dt7",
   "collapsed_sections": [],
   "name": "비트마스크.ipynb",
   "provenance": []
  },
  "kernelspec": {
   "display_name": "Python 3 (ipykernel)",
   "language": "python",
   "name": "python3"
  },
  "language_info": {
   "codemirror_mode": {
    "name": "ipython",
    "version": 3
   },
   "file_extension": ".py",
   "mimetype": "text/x-python",
   "name": "python",
   "nbconvert_exporter": "python",
   "pygments_lexer": "ipython3",
   "version": "3.9.7"
  }
 },
 "nbformat": 4,
 "nbformat_minor": 1
}
