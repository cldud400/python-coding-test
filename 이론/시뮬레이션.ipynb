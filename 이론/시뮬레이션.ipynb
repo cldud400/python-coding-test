{
 "cells": [
  {
   "cell_type": "markdown",
   "metadata": {
    "id": "hYIWGYMFdnnE"
   },
   "source": [
    "# 시뮬레이션\n",
    "- `구현`이라고도 한다.\n",
    "- 문제에 주어진 대로 프로그래밍 할 수 있는지를 보는 문제\n",
    "  - 생각하는 것과 생각한 것을 코드로 옮기는 건 다른 문제\n",
    "- 말 그대로 문제에서 하라는대로 하면 풀린다.\n",
    "- 대부분의 문제가 엄청난 양의 반복문과 다차원 배열을 다루는 문제"
   ]
  },
  {
   "cell_type": "markdown",
   "metadata": {
    "id": "BP9l0FE_eKS6"
   },
   "source": [
    "# 문제풀이"
   ]
  },
  {
   "cell_type": "markdown",
   "metadata": {
    "id": "_6lqMa_XeOKT"
   },
   "source": [
    "## 배열돌리기-3(16935)\n",
    "- 문제에 나와 있는대로 배열을 돌리는 연산을 구현하는 문제\n",
    "\n",
    "5. 5/6번 준비\n",
    "  - 1번 그룹 : i < n/2 , j < m/2\n",
    "  - 2번 그룹 : i < n/2, j >= m/2\n",
    "  - 4번 그룹 : i >= n/2, j < m/2\n",
    "  - 3번 그룹 : i >= n/2, j >= m/2\n",
    "\n",
    "\n",
    "6. 5번\n",
    "  - 1번 그룹  -> 2번 그룹\n",
    "    - B[i][j+m/2] = a[i][j]\n",
    "  - 2번 그룹  -> 3번 그룹\n",
    "    - B[i+n/2][j+m/2] = a[i][j+m/2]\n",
    "  - 3번 그룹  -> 4번 그룹\n",
    "    - B[i+n/2][j] = a[i+n/2][j+m/2]\n",
    "  - 4번 그룹  -> 1번 그룹\n",
    "   - B[i][j] = a[i+n/2][j]"
   ]
  },
  {
   "cell_type": "code",
   "execution_count": null,
   "metadata": {
    "id": "QTiUjQNdd08b"
   },
   "outputs": [],
   "source": [
    "n, m, k = 6, 6, 4\n",
    "\n",
    "# a = max(n,m)\n",
    "\n",
    "# list_ = []\n",
    "# arr = [[0] * a for _ in range(a)]\n",
    "\n",
    "# for _ in range(n):\n",
    "#   list_.append(list(map(int,input().split())))\n",
    "\n",
    "t = int(input())\n",
    "\n",
    "arr = [[1,6,2,9,8,4],[7,2,6,9,8,2],[1,8,3,4,2,9],[7,4,6,2,3,1],[9,2,3,6,1,5],[4,2,9,3,1,8]]\n",
    "\n",
    "for _ in range(t):\n",
    "\n",
    "  if k == 1:\n",
    "    for j in range(m):\n",
    "      for i in range((n//2)):\n",
    "        arr[i][j] , arr[-i-1][j] = arr[-i-1][j], arr[i][j]\n",
    "\n",
    "  if k == 2:\n",
    "    for i in range((n)):\n",
    "      for j in range(m//2):\n",
    "        arr[i][j] , arr[i][-j-1] = arr[i][-j-1], arr[i][j]\n",
    "\n",
    "  if k == 3:\n",
    "    p = len(arr)\n",
    "    q = len(arr[0])\n",
    "    ans = [[0] * q for _ in range(p)]\n",
    "    for i in range(p):\n",
    "      for j in range(q):\n",
    "          ans[j][n-1-i]  = arr[i][j]\n",
    "\n",
    "  if k == 4:\n",
    "    p = len(arr)\n",
    "    q = len(arr[0])\n",
    "    ans = [[0] * q for _ in range(p)]\n",
    "    for i in range(p):\n",
    "      for j in range(q):\n",
    "          ans[i][j] = arr[j][m-i-1]\n",
    "\n",
    "  if k == 5:\n",
    "    p = len(arr)\n",
    "    q = len(arr[0])\n",
    "    ans = [[0] * q for _ in range(p)]\n",
    "    for i in range((p//2)):\n",
    "      for j in range(q//2):\n",
    "        ans[i][j+(m//2)] = arr[i][j]\n",
    "        ans[i+(n//2)][j+(m//2)] = arr[i][j+(m//2)]\n",
    "        ans[i+(n//2)][j] = arr[i+(n//2)][j+(m//2)]\n",
    "        ans[i][j] = arr[i + (n//2)][j]\n",
    "\n",
    "  if k == 6:\n",
    "    p = len(arr)\n",
    "    q = len(arr[0])\n",
    "    ans = [[0] * q for _ in range(p)]\n",
    "    for i in range((p//2)):\n",
    "      for j in range(q//2):\n",
    "        ans[i + (n//2)][j] = arr[i][j]\n",
    "        ans[i][j] = arr[i][j+(m//2)]\n",
    "        ans[i][j+(m//2)] = arr[i+(n//2)][j+(m//2)]\n",
    "        ans[i+(n//2)][j+(m//2)] = arr[i + (n//2)][j]\n",
    "\n",
    "\n",
    "if k == 1 or k == 2:\n",
    "    for line in arr:\n",
    "        print(*line)\n",
    "else:\n",
    "  for line in ans:\n",
    "        print(*line)\n",
    "if k == 1 or k == 2:\n",
    "  print(arr)\n",
    "else:\n",
    "  print(ans)"
   ]
  },
  {
   "cell_type": "markdown",
   "metadata": {
    "id": "RLrXbfPDt8Et"
   },
   "source": [
    "## 배열 돌리기-1(16926)\n",
    "\n",
    "$$\n",
    "  \\left[\n",
    "  \\begin{array}{c|ccccc|c}\n",
    "    A_{00} & A_{01} & A_{02} & A_{03} & A_{04} & A_{05} & A_{06} \\\\\n",
    "    \\hline\n",
    "    A_{10} & A_{11} & A_{12} & A_{13} & A_{14} & A_{15} & A_{16} \\\\\n",
    "    A_{20} & A_{21} & A_{22} & A_{23} & A_{24} & A_{25} & A_{26} \\\\\n",
    "    A_{30} & A_{31} & A_{32} & A_{33} & A_{34} & A_{35} & A_{36} \\\\\n",
    "    A_{40} & A_{41} & A_{42} & A_{43} & A_{44} & A_{45} & A_{46} \\\\\n",
    "    A_{50} & A_{51} & A_{52} & A_{53} & A_{54} & A_{55} & A_{56} \\\\\n",
    "    \\hline\n",
    "    A_{60} & A_{61} & A_{62} & A_{63} & A_{64} & A_{65} & A_{66} \\\\\n",
    "  \\end{array}\n",
    "  \\right]\n",
    "$$\n",
    "\n",
    "- 0번 그룹\n",
    "  - A[0][j] $0 \\le j < M$\n",
    "  - A[N-1][j] $0 \\le j < M$\n",
    "  - A[j][0] $0 \\le i < N$\n",
    "  - A[i][M-1] $0 \\le i < N$\n",
    "\n",
    "- 1번 그룹\n",
    "  - A[1][j] $1 \\le j < M-1$\n",
    "  - A[N-2][j] $1 \\le j < M-1$\n",
    "  - A[j][1] $1 \\le i < N-1$\n",
    "  - A[i][M-2] $1 \\le i < N-1$\n",
    "\n",
    "- 3번 그룹\n",
    "  - A[2][j] $2 \\le j < M-2$\n",
    "  - A[N-3][j] $2 \\le j < M-2$\n",
    "  - A[j][2] $2 \\le i < N-2$\n",
    "  - A[i][M-3] $2 \\le i < N-2$\n",
    "\n",
    "- k번 그룹\n",
    "  - A[k][j] $k \\le j < M-k$\n",
    "  - A[N-k-1][j] $k \\le j < M-k$\n",
    "  - A[j][k] $k \\le i < N-k$\n",
    "  - A[i][M-k-1] $k \\le i < N-k$\n"
   ]
  },
  {
   "cell_type": "code",
   "execution_count": null,
   "metadata": {
    "id": "M7DJ5-ByjyuM"
   },
   "outputs": [],
   "source": [
    "# n, m, r = map(int,input().split())\n",
    "# arr = [list(map(int, list(input().split()))) for _ in range(n)]\n",
    "\n",
    "n, m, r = 4, 4, 2\n",
    "arr = [[1,2,3,4],[5,6,7,8],[9,10,11,12],[13,14,15,16]]\n",
    "\n",
    "groups = []\n",
    "groupk = min(n,m) // 2\n",
    "\n",
    "for k in range(groupk):\n",
    "  group = []\n",
    "  for j in range(k, m-k):\n",
    "    group.append(arr[k][j])\n",
    "  for i in range(k+1,n-k-1):\n",
    "    group.append(arr[i][m-k-1])\n",
    "  for j in range(m-k-1,k,-1):\n",
    "    group.append(arr[n-k-1][j])\n",
    "  for i in range(n-k-1,k,-1):\n",
    "    group.append(arr[i][k])\n",
    "\n",
    "  groups.append(group)\n",
    "\n",
    "\n",
    "\n",
    "for k in range(groupk):\n",
    "  group = groups[k]\n",
    "  size = len(group)\n",
    "  idx = r%size\n",
    "  for j in range(k, m-k):\n",
    "    arr[k][j] = group[idx]\n",
    "    idx = (idx + 1) % size\n",
    "  for i in range(k+1,n-k-1):\n",
    "    arr[i][m-k-1] = group[idx]\n",
    "    idx = (idx + 1) % size\n",
    "  for j in range(m-k-1,k,-1):\n",
    "    arr[n-k-1][j] = group[idx]\n",
    "    idx = (idx + 1) % size\n",
    "  for i in range(n-k-1,k,-1):\n",
    "    arr[i][k] = group[idx]\n",
    "    idx = (idx + 1) % size\n",
    "\n",
    "for line in arr:\n",
    "  print(*line)\n"
   ]
  },
  {
   "cell_type": "code",
   "execution_count": null,
   "metadata": {
    "colab": {
     "base_uri": "https://localhost:8080/"
    },
    "executionInfo": {
     "elapsed": 480,
     "status": "ok",
     "timestamp": 1623155811514,
     "user": {
      "displayName": "반치영",
      "photoUrl": "",
      "userId": "02232750095748228317"
     },
     "user_tz": -540
    },
    "id": "V_ynfKHbfhKQ",
    "outputId": "02ddd8ce-2a61-46cb-9d51-2229886aa9e4"
   },
   "outputs": [
    {
     "name": "stdout",
     "output_type": "stream",
     "text": [
      "[[2, 3, 4, 8], [1, 7, 7, 6], [5, 6, 8, 2], [9, 5, 4, 3]]\n"
     ]
    }
   ],
   "source": [
    "from collections import deque\n",
    "from collections import defaultdict\n",
    "\n",
    "n, m, r = map(int,input().split())\n",
    "arr = [list(map(int, list(input().split()))) for _ in range(n)]\n",
    "P = min(n,m)//2\n",
    "\n",
    "dx = [1, 0, -1, 0]\n",
    "dy = [0, 1, 0, -1]\n",
    "\n",
    "cycle = (n-1) * 2 + (m-1) * 2\n",
    "\n",
    "def solve(i,r):\n",
    "  for _ in range(r):\n",
    "    x, y = i, i\n",
    "    corner = [[n-1,i],[n-1,m-1],[i,m-1],[i,i]]\n",
    "    value = arr[x][y]\n",
    "    k = 0\n",
    "    while True:\n",
    "      if k == 4:\n",
    "        break\n",
    "      nx, ny = x + dx[k], y + dy[k]\n",
    "      next = arr[nx][ny]\n",
    "      arr[nx][ny] = value\n",
    "      x, y = nx, ny\n",
    "      value = next\n",
    "      if nx == corner[k][0] and ny == corner[k][1]:\n",
    "        k += 1\n",
    "\n",
    "\n",
    "for i in range(P):\n",
    "    solve(i,r%cycle)\n",
    "    n -= 1\n",
    "    m -= 1\n",
    "    cycle -= 8\n",
    "\n",
    "for line in arr:\n",
    "    print(*line)"
   ]
  },
  {
   "cell_type": "markdown",
   "metadata": {
    "id": "-iWjMv37hr__"
   },
   "source": [
    "## 배열돌리기-2(19927)\n",
    "- 1번과 동일한 방법으로 해결"
   ]
  },
  {
   "cell_type": "code",
   "execution_count": null,
   "metadata": {
    "id": "JqCa2-ajhrX0"
   },
   "outputs": [],
   "source": [
    "n, m, r = 4, 4, 2\n",
    "arr = [[1,2,3,4],[5,6,7,8],[9,10,11,12],[13,14,15,16]]\n",
    "# n, m, r = map(int,input().split())\n",
    "# arr = [list(map(int, list(input().split()))) for _ in range(n)]\n",
    "\n",
    "groups = []\n",
    "groupk = min(n,m) // 2\n",
    "\n",
    "for k in range(groupk):\n",
    "  group = []\n",
    "  for j in range(k, m-k):\n",
    "    group.append(arr[k][j])\n",
    "  for i in range(k+1,n-k-1):\n",
    "    group.append(arr[i][m-k-1])\n",
    "  for j in range(m-k-1,k,-1):\n",
    "    group.append(arr[n-k-1][j])\n",
    "  for i in range(n-k-1,k,-1):\n",
    "    group.append(arr[i][k])\n",
    "\n",
    "  groups.append(group)\n",
    "\n",
    "\n",
    "\n",
    "for k in range(groupk):\n",
    "  group = groups[k]\n",
    "  size = len(group)\n",
    "  idx = r%size\n",
    "  for j in range(k, m-k):\n",
    "    arr[k][j] = group[idx]\n",
    "    idx = (idx + 1) % size\n",
    "  for i in range(k+1,n-k-1):\n",
    "    arr[i][m-k-1] = group[idx]\n",
    "    idx = (idx + 1) % size\n",
    "  for j in range(m-k-1,k,-1):\n",
    "    arr[n-k-1][j] = group[idx]\n",
    "    idx = (idx + 1) % size\n",
    "  for i in range(n-k-1,k,-1):\n",
    "    arr[i][k] = group[idx]\n",
    "    idx = (idx + 1) % size\n",
    "\n",
    "for line in arr:\n",
    "  print(*line)\n"
   ]
  },
  {
   "cell_type": "markdown",
   "metadata": {
    "id": "MXxMg027llMm"
   },
   "source": [
    "## 주사위 굴리기(14499)\n",
    "- 이 문제는 주사위를 배열로 생각하면 배열을 회전하는 문제가 된다.\n",
    "\n",
    "- 동쪽일 때 주사위[4]가 맨위\n",
    "  - 주사위[4]에는 주사위[6]\n",
    "  - 주사위[6]에는 주사위[3]\n",
    "  - 주사위[3]에는 주사위[1]\n",
    "\n",
    "- 서쪽일 때 주사위[3]가 맨위\n",
    "  - 주사위[3]에는 주사위[6]\n",
    "  - 주사위[6]에는 주사위[4]\n",
    "  - 주사위[4]에는 주사위[1]\n",
    "\n",
    "- 북쪽일 때 주사위[5]가 맨위\n",
    "  - 주사위[5]에는 주사위[6]\n",
    "  - 주사위[6]에는 주사위[2]\n",
    "  - 주사위[2]에는 주사위[1]\n",
    "\n",
    "- 남쪽일 때 주사위[2]가 맨위\n",
    "  - 주사위[5]에는 주사위[6]\n",
    "  - 주사위[6]에는 주사위[5]\n",
    "  - 주사위[2]에는 주사위[1]"
   ]
  },
  {
   "cell_type": "code",
   "execution_count": null,
   "metadata": {
    "colab": {
     "base_uri": "https://localhost:8080/"
    },
    "executionInfo": {
     "elapsed": 301,
     "status": "ok",
     "timestamp": 1623228593406,
     "user": {
      "displayName": "반치영",
      "photoUrl": "",
      "userId": "02232750095748228317"
     },
     "user_tz": -540
    },
    "id": "2q4Ekhgb2NkB",
    "outputId": "cfe097ef-910e-471f-9003-48c6b0ba3eb1"
   },
   "outputs": [
    {
     "name": "stdout",
     "output_type": "stream",
     "text": [
      "0\n",
      "0\n",
      "3\n",
      "0\n",
      "0\n",
      "8\n",
      "6\n",
      "3\n"
     ]
    }
   ],
   "source": [
    "n, m, i, j, r = 4, 2, 0, 0, 8\n",
    "arr = [[0,2],[3,4],[5,6],[7,8]]\n",
    "# n, m, i, j, r = int(input().split())\n",
    "# arr = [list(map(int, list(input().split()))) for _ in range(n)]\n",
    "dice = [0] * 7\n",
    "\n",
    "di = [0,0,-1,1]\n",
    "dj = [1,-1,0,0]\n",
    "\n",
    "move = [4,4,4,1,3,3,3,2]\n",
    "for k in move:\n",
    "  ni, nj = i + di[k-1], j + dj[k-1]\n",
    "\n",
    "  if ni < 0 or ni >= n or nj < 0 or nj >= m:\n",
    "    continue\n",
    "\n",
    "  if k == 1:\n",
    "    dice[1], dice[4], dice[6], dice[3] = dice[4], dice[6], dice[3], dice[1]\n",
    "\n",
    "  elif k == 2:\n",
    "    dice[1], dice[3], dice[6], dice[4] = dice[3], dice[6], dice[4], dice[1]\n",
    "\n",
    "  elif k == 3:\n",
    "    dice[1], dice[5], dice[6], dice[2] = dice[5], dice[6], dice[2], dice[1]\n",
    "  \n",
    "  else:\n",
    "    dice[1], dice[2], dice[6], dice[5] = dice[2], dice[6], dice[5], dice[1]\n",
    "\n",
    "\n",
    "  i = ni\n",
    "  j = nj\n",
    "\n",
    "  if arr[i][j] == 0:\n",
    "    arr[i][j] = dice[6]\n",
    "  else:\n",
    "    dice[6] = arr[i][j]\n",
    "    arr[i][j] = 0\n",
    "\n",
    "  print(dice[1])\n"
   ]
  },
  {
   "cell_type": "markdown",
   "metadata": {
    "id": "7WpfVlm5hjNd"
   },
   "source": [
    "## 톱니바퀴(14891)\n",
    "1. 어떤 톱니가 어느 바퀴 방향으로 돌아갈 것인가?\n",
    "2. 회전"
   ]
  },
  {
   "cell_type": "code",
   "execution_count": null,
   "metadata": {
    "colab": {
     "base_uri": "https://localhost:8080/"
    },
    "executionInfo": {
     "elapsed": 9333,
     "status": "ok",
     "timestamp": 1623308627741,
     "user": {
      "displayName": "반치영",
      "photoUrl": "",
      "userId": "02232750095748228317"
     },
     "user_tz": -540
    },
    "id": "rG6BqUU2hnWw",
    "outputId": "5a489ae8-7fd0-41e6-9466-090a214f1c85"
   },
   "outputs": [
    {
     "name": "stdout",
     "output_type": "stream",
     "text": [
      "3 -1\n",
      "1 1\n"
     ]
    },
    {
     "data": {
      "text/plain": [
       "7"
      ]
     },
     "execution_count": 19,
     "metadata": {
      "tags": []
     },
     "output_type": "execute_result"
    }
   ],
   "source": [
    "# gear = [[1,0,1,0,1,1,1,1],[0,1,1,1,1,1,0,1],[1,1,0,0,1,1,1,0],[0,0,0,0,0,0,1,0]]\n",
    "\n",
    "# n = 4 # 톱니바퀴 개수\n",
    "\n",
    "# k = 2 # 회전수\n",
    "\n",
    "gear = [list(map(int,input())) for _ in range(4)]\n",
    "k = int(input())\n",
    "\n",
    "\n",
    "for _ in range(k):\n",
    "  no, dir = map(int,input().split())\n",
    "  no -= 1\n",
    "  d = [0] * n \n",
    "  d[no] = dir # 회전하는 톱니바퀴 찾기\n",
    "\n",
    "  # 회전 해야하는 톱니바퀴의 방향을 결정\n",
    "  for i in range(no-1, -1, -1):\n",
    "    if gear[i][2] != gear[i+1][6]:\n",
    "      d[i] = - d[i+1]\n",
    "    else:\n",
    "      break\n",
    "\n",
    "  for i in range(no+1, n):\n",
    "    if gear[i-1][2] != gear[i][6]:\n",
    "      d[i] = -d[i-1]\n",
    "\n",
    "    else:\n",
    "      break\n",
    "\n",
    "  # 4개의 톱니바퀴를 회전\n",
    "  for i in range(n):\n",
    "    if d[i] == 0:\n",
    "      continue\n",
    "\n",
    "    if d[i] == 1:\n",
    "      tmp = gear[i][7]\n",
    "      for j in range(7,0,-1):\n",
    "        gear[i][j] = gear[i][j-1]\n",
    "      gear[i][0] = tmp\n",
    "\n",
    "    elif d[i] == -1:\n",
    "      tmp = gear[i][0]\n",
    "      for j in range(0,7):\n",
    "        gear[i][j] = gear[i][j+1]\n",
    "      gear[i][7] = tmp\n",
    "\n",
    "\n",
    "\n",
    "ans = 0\n",
    "\n",
    "for i in range(n):\n",
    "  if gear[i][0] == 1:\n",
    "    ans += 2 ** i\n",
    "    \n",
    "\n",
    "ans"
   ]
  },
  {
   "cell_type": "markdown",
   "metadata": {
    "id": "ZKxd_l6StT-O"
   },
   "source": [
    "## 톱니바퀴-2(15662)"
   ]
  },
  {
   "cell_type": "code",
   "execution_count": null,
   "metadata": {
    "id": "h7dKFliep6Or"
   },
   "outputs": [],
   "source": [
    "n = int(input())\n",
    "gear = [list(map(int,input())) for _ in range(n)]\n",
    "k = int(input())\n",
    "\n",
    "\n",
    "for _ in range(k):\n",
    "  no, dir = map(int,input().split())\n",
    "  no -= 1\n",
    "  d = [0] * n \n",
    "  d[no] = dir # 회전하는 톱니바퀴 찾기\n",
    "\n",
    "  # 회전 해야하는 톱니바퀴의 방향을 결정\n",
    "  for i in range(no-1, -1, -1):\n",
    "    if gear[i][2] != gear[i+1][6]:\n",
    "      d[i] = - d[i+1]\n",
    "    else:\n",
    "      break\n",
    "\n",
    "  for i in range(no+1, n):\n",
    "    if gear[i-1][2] != gear[i][6]:\n",
    "      d[i] = -d[i-1]\n",
    "\n",
    "    else:\n",
    "      break\n",
    "\n",
    "  # 4개의 톱니바퀴를 회전\n",
    "  for i in range(n):\n",
    "    if d[i] == 0:\n",
    "      continue\n",
    "\n",
    "    if d[i] == 1:\n",
    "      tmp = gear[i][7]\n",
    "      for j in range(7,0,-1):\n",
    "        gear[i][j] = gear[i][j-1]\n",
    "      gear[i][0] = tmp\n",
    "\n",
    "    elif d[i] == -1:\n",
    "      tmp = gear[i][0]\n",
    "      for j in range(0,7):\n",
    "        gear[i][j] = gear[i][j+1]\n",
    "      gear[i][7] = tmp\n",
    "\n",
    "\n",
    "\n",
    "ans = 0\n",
    "\n",
    "for i in gear:\n",
    "    if i[0] == 1:\n",
    "        ans += 1\n",
    "\n",
    "print(ans)"
   ]
  },
  {
   "cell_type": "markdown",
   "metadata": {
    "id": "yzfBSJXQwnwP"
   },
   "source": [
    "## 로봇 청소기(14503)"
   ]
  },
  {
   "cell_type": "code",
   "execution_count": null,
   "metadata": {
    "colab": {
     "base_uri": "https://localhost:8080/"
    },
    "executionInfo": {
     "elapsed": 10464,
     "status": "ok",
     "timestamp": 1623326487731,
     "user": {
      "displayName": "반치영",
      "photoUrl": "",
      "userId": "02232750095748228317"
     },
     "user_tz": -540
    },
    "id": "tmg5A36-xtXJ",
    "outputId": "1c02ef95-292b-40c8-f7be-d66d246f7ab0"
   },
   "outputs": [
    {
     "name": "stdout",
     "output_type": "stream",
     "text": [
      "3 3\n",
      "1 1 0\n",
      "[[1, 1, 1], [1, 2, 1], [1, 1, 1]]\n"
     ]
    }
   ],
   "source": [
    "n , m = map(int,input().split())\n",
    "r, c, d= map(int,input().split())\n",
    "\n",
    "\n",
    "arr = [[1,1,1],[1,0,1],[1,1,1]]\n",
    "# arr = []\n",
    "# for i in range(n):\n",
    "#   lst = list(map(int, input().split()))\n",
    "#   arr.append(lst)\n",
    "\n",
    "cnt = 0\n",
    "\n",
    "di = [-1,0,1,0]\n",
    "dj = [0,1,0,-1]\n",
    "\n",
    "while True:\n",
    "  if arr[r][c] == 0:\n",
    "    arr[r][c] = 2\n",
    "  \n",
    "  if arr[r+1][c] != 0 and arr[r-1][c] != 0 and arr[r][c-1] != 0 and arr[r][c+1] != 0:\n",
    "    if arr[r-di[d]][c-dj[d]] == 1:\n",
    "      break\n",
    "    else:\n",
    "      r -= di[d]\n",
    "      c -= dj[d]\n",
    "  else:\n",
    "    d = (d + 3) % 4\n",
    "    if arr[r+di[d]][c+dj[d]] == 0:\n",
    "      r += di[d]\n",
    "      c += dj[d]\n",
    "\n",
    "\n",
    "print(arr)"
   ]
  },
  {
   "cell_type": "markdown",
   "metadata": {
    "id": "Yfx7IAlM4kSM"
   },
   "source": [
    "## 14890(경사로)"
   ]
  },
  {
   "cell_type": "code",
   "execution_count": null,
   "metadata": {
    "colab": {
     "base_uri": "https://localhost:8080/"
    },
    "executionInfo": {
     "elapsed": 292,
     "status": "ok",
     "timestamp": 1623314720957,
     "user": {
      "displayName": "반치영",
      "photoUrl": "",
      "userId": "02232750095748228317"
     },
     "user_tz": -540
    },
    "id": "S6aiPgLE1-fT",
    "outputId": "ec3bce56-8373-4709-a070-8aca90f271ba"
   },
   "outputs": [
    {
     "data": {
      "text/plain": [
       "3"
      ]
     },
     "execution_count": 50,
     "metadata": {
      "tags": []
     },
     "output_type": "execute_result"
    }
   ],
   "source": [
    "n, l = 6, 2\n",
    "\n",
    "map = [[3,3,3,3,3,3],[2,3,3,3,3,3],[2,2,2,3,2,3],[1,1,1,2,2,2],[1,1,1,3,3,1],[1,1,2,3,3,2]]\n",
    "\n",
    "\n",
    "def go(arr, l):\n",
    "  n = len(arr)\n",
    "  check = [False] * n # 이미 경사로를 놓은 곳은 또 놓을 수 없다.\n",
    "  for i in range(1,n):\n",
    "    if arr[i-1] != arr[i]: # 경사진 곳(높이 차이가 1보다 크면 안된다)\n",
    "      diff = abs(arr[i] - arr[i-1])\n",
    "      if diff != 1:\n",
    "        return False\n",
    "      if arr[i-1] < arr[i]: # 높이가 1이라면 l만큼 경사로를 놓을 수 있는지 확인\n",
    "        for j in range(l, l+1):\n",
    "          if i-j < 0: # 짧기 때문에 못 지나간다.\n",
    "            return False\n",
    "          if arr[i-1] != arr[i-j]:  # 높이가 다른 곳은 경사로를 놓을 수 없다\n",
    "            return False\n",
    "          if check[i-j]:  # 이전에 경사로를 놓았던 곳은 놓을 수 없다.\n",
    "            return False\n",
    "          check[i-j] = True\n",
    "\n",
    "      else:\n",
    "        for j in range(l):\n",
    "          if i+j >= n:\n",
    "            return False\n",
    "          if arr[i] != arr[i+j]: return False\n",
    "          if check[i+j]:\n",
    "            return False\n",
    "          check[i+j] = True\n",
    "\n",
    "  return True\n",
    "\n",
    "\n",
    "ans = 0\n",
    "\n",
    "# 모든 행을 지나갈 수 있는지 확인\n",
    "for i in range(n):\n",
    "  d= map[i]\n",
    "  if go(d,l):\n",
    "    ans += 1\n",
    "\n",
    "# 모든 열을 지나갈 수 있는지 확인\n",
    "for j in range(n):\n",
    "  d = [map[i][j] for i in range(n)]\n",
    "  if go(d,l):\n",
    "    ans += 1\n",
    "\n",
    "ans\n"
   ]
  },
  {
   "cell_type": "markdown",
   "metadata": {
    "id": "TNLq7VRDrFdq"
   },
   "source": [
    "## 드래곤 커브(15685)"
   ]
  },
  {
   "cell_type": "code",
   "execution_count": null,
   "metadata": {
    "id": "MXfgB8PQ6tZU"
   },
   "outputs": [],
   "source": [
    "arr = [[0] * 101 for _ in range(101)]\n",
    "n = int(input())\n",
    "\n",
    "di = [0, -1, 0, 1]\n",
    "dj = [1, 0, -1, 0]\n",
    "\n",
    "def curve(x,y,dir,gen):\n",
    "  ans = [dir]\n",
    "  for _ in range(gen):\n",
    "    tmp = ans[:]\n",
    "    tmp = tmp[::-1]\n",
    "    for i in range(len(tmp)):\n",
    "      tmp[i] = (tmp[i]+1) % 4\n",
    "    ans += tmp\n",
    "  return ans\n",
    "\n",
    "check = [[0] * 101 for _ in range(101)]\n",
    "\n",
    "for _ in range(n):\n",
    "  y, x, dir, gen = map(int,input().split())\n",
    "  dirs = curve(x,y,dir,gen) \n",
    "  check[x][y] = 1\n",
    "  for d in dirs:\n",
    "    x += di[d]\n",
    "    y += dj[d]\n",
    "    check[x][y] = 1\n",
    "\n",
    "\n",
    "cnt = 0\n",
    "\n",
    "for i in range(100):\n",
    "  for j in range(100):\n",
    "    if check[i][j] and check[i+1][j] and check[i+1][j+1] and check[i][j+1]:\n",
    "      cnt += 1\n",
    "\n",
    "  \n",
    "\n",
    "print(cnt)"
   ]
  },
  {
   "cell_type": "markdown",
   "metadata": {
    "id": "hE4N7zX22YVz"
   },
   "source": [
    "## LCD Test(2290)"
   ]
  },
  {
   "cell_type": "code",
   "execution_count": null,
   "metadata": {
    "colab": {
     "base_uri": "https://localhost:8080/"
    },
    "executionInfo": {
     "elapsed": 350,
     "status": "ok",
     "timestamp": 1623398020838,
     "user": {
      "displayName": "반치영",
      "photoUrl": "",
      "userId": "02232750095748228317"
     },
     "user_tz": -540
    },
    "id": "qbrbXhirrlEM",
    "outputId": "086ca40b-ccee-459e-d520-d654bd28b9e6"
   },
   "outputs": [
    {
     "name": "stdout",
     "output_type": "stream",
     "text": [
      "      --   --        --   --   --   --   --   --  \n",
      "   |    |    | |  | |    |       | |  | |  | |  | \n",
      "   |    |    | |  | |    |       | |  | |  | |  | \n",
      "      --   --   --   --   --        --   --       \n",
      "   | |       |    |    | |  |    | |  |    | |  | \n",
      "   | |       |    |    | |  |    | |  |    | |  | \n",
      "      --   --        --   --        --   --   --  \n"
     ]
    }
   ],
   "source": [
    "s, n = input().split()\n",
    "\n",
    "s = int(s)\n",
    "x, y = 2*s+3, s+2\n",
    "\n",
    "def one(s):\n",
    "  global text\n",
    "  for i in range(x):\n",
    "    if i in (0, s+1, x-1):\n",
    "        text[i] += ' '*y\n",
    "    else:\n",
    "        text[i] += ' ' * (y-1) + '|'\n",
    "  return text\n",
    "\n",
    "def two(s):\n",
    "  global text\n",
    "  for i in range(x):\n",
    "    if i in (0, s+1, x-1):\n",
    "        text[i] += ' ' + '-'*s + ' '\n",
    "    else:\n",
    "      if i < s+1:\n",
    "          text[i] += ' ' * (y-1) + '|'\n",
    "      else:\n",
    "          text[i] += '|' + ' ' * (y-1)\n",
    "  return text\n",
    "\n",
    "def three(s):\n",
    "  global text\n",
    "  for i in range(x):\n",
    "    if i in (0, s+1, x-1):\n",
    "        text[i] += ' ' + '-'*s + ' '\n",
    "    else:\n",
    "        text[i] += ' ' * (y-1) + '|'\n",
    "  return text\n",
    "\n",
    "def four(s):\n",
    "  global text\n",
    "  for i in range(x):\n",
    "    if i in (0, x-1):\n",
    "        text[i] += ' '*y\n",
    "    elif i == s+1:\n",
    "        text[i] += ' ' + '-'*s + ' '\n",
    "    else:\n",
    "      if i < s+1:\n",
    "          text[i] += '|' + ' ' * s + '|'\n",
    "      else:\n",
    "          text[i] += ' ' * (y-1) + '|'\n",
    "  return text\n",
    "\n",
    "def five(s):\n",
    "  global text\n",
    "  for i in range(x):\n",
    "    if i in (0, s+1, x-1):\n",
    "        text[i] += ' ' + '-'*s + ' '\n",
    "    else:\n",
    "      if i > s+1:\n",
    "          text[i] += ' ' * (y-1) + '|'\n",
    "      else:\n",
    "          text[i] += '|' + ' ' * (y-1)\n",
    "  return text\n",
    "\n",
    "def six(s):\n",
    "  global text\n",
    "  for i in range(x):\n",
    "    if i in (0, s+1, x-1):\n",
    "        text[i] += ' ' + '-'*s + ' '\n",
    "    else:\n",
    "      if i > s+1:\n",
    "          text[i] += '|' + ' ' * (y-2) + '|'\n",
    "      else:\n",
    "          text[i] += '|' + ' ' * (y-1)\n",
    "  return text\n",
    "\n",
    "def seven(s):\n",
    "  global text\n",
    "  for i in range(x):\n",
    "    if i == 0:\n",
    "        text[i] += ' ' + '-'*s + ' '\n",
    "    elif i in (s+1, x-1):\n",
    "        text[i] += ' '*y\n",
    "    else:\n",
    "        text[i] += ' ' * (y-1) + '|'\n",
    "  return text\n",
    "\n",
    "def eight(s):\n",
    "  global text\n",
    "  for i in range(x):\n",
    "    if i in (0, s+1, x-1):\n",
    "        text[i] += ' ' + '-'*s + ' '\n",
    "    else:\n",
    "        text[i] += '|' + ' ' * s + '|'\n",
    "  return text\n",
    "\n",
    "\n",
    "def nine(s):\n",
    "  global text\n",
    "  for i in range(x):\n",
    "    if i in (0, s+1, x-1):\n",
    "        text[i] += ' ' + '-'*s + ' '\n",
    "    else:\n",
    "      if i < s+1:\n",
    "          text[i] += '|' + ' ' * s + '|'\n",
    "      else:\n",
    "          text[i] += ' ' * (y-1) + '|'\n",
    "  return text\n",
    "\n",
    "def zero(s):\n",
    "  global text\n",
    "  for i in range(x):\n",
    "    if i in (0, x-1):\n",
    "      text[i] += ' ' + '-'*s + ' '\n",
    "    elif i == s+1:\n",
    "      text[i] += ' ' * y\n",
    "    else:\n",
    "      text[i] += '|' + ' ' * s + '|'\n",
    "  return text\n",
    "\n",
    "text = [''] * x\n",
    "\n",
    "\n",
    "\n",
    "\n",
    "for i in n:\n",
    "  if i == '1':\n",
    "    one(s)\n",
    "    for i in range(x):\n",
    "      text[i] += ' '\n",
    "  elif i == '2':\n",
    "    two(s)\n",
    "    for i in range(x):\n",
    "      text[i] += ' '\n",
    "  elif i == '3':\n",
    "    three(s)\n",
    "    for i in range(x):\n",
    "      text[i] += ' '\n",
    "  elif i == '4':\n",
    "    four(s)\n",
    "    for i in range(x):\n",
    "      text[i] += ' '\n",
    "  elif i == '5':\n",
    "    five(s)\n",
    "    for i in range(x):\n",
    "      text[i] += ' '\n",
    "  elif i == '6':\n",
    "    six(s)\n",
    "    for i in range(x):\n",
    "      text[i] += ' '\n",
    "  elif i == '7':\n",
    "    seven(s)\n",
    "    for i in range(x):\n",
    "      text[i] += ' '\n",
    "  elif i == '8':\n",
    "    eight(s)\n",
    "    for i in range(x):\n",
    "      text[i] += ' '\n",
    "  elif i == '9':\n",
    "    nine(s)\n",
    "    for i in range(x):\n",
    "      text[i] += ' '\n",
    "  else:\n",
    "    zero(s)\n",
    "    for i in range(x):\n",
    "      text[i] += ' '\n",
    "\n",
    "\n",
    "    \n",
    "\n",
    "for i in text:\n",
    "    print(i)\n",
    "\n"
   ]
  },
  {
   "cell_type": "code",
   "execution_count": null,
   "metadata": {
    "colab": {
     "base_uri": "https://localhost:8080/"
    },
    "executionInfo": {
     "elapsed": 297,
     "status": "ok",
     "timestamp": 1623399678543,
     "user": {
      "displayName": "반치영",
      "photoUrl": "",
      "userId": "02232750095748228317"
     },
     "user_tz": -540
    },
    "id": "H8XM2UgN2_T_",
    "outputId": "193e625a-4c25-48ba-c205-8c63d0b5932b"
   },
   "outputs": [
    {
     "name": "stdout",
     "output_type": "stream",
     "text": [
      "      --   --        --   --   --   --   --   -- \n",
      "   |    |    | |  | |    |       | |  | |  | |  |\n",
      "   |    |    | |  | |    |       | |  | |  | |  |\n",
      "      --   --   --   --   --        --   --      \n",
      "   | |       |    |    | |  |    | |  |    | |  |\n",
      "   | |       |    |    | |  |    | |  |    | |  |\n",
      "      --   --        --   --        --   --   -- \n"
     ]
    }
   ],
   "source": [
    "pattern = (\n",
    "    (1,1,1,0,1,1,1),\n",
    "    (0,0,1,0,0,1,0),\n",
    "    (1,0,1,1,1,0,1),\n",
    "    (1,0,1,1,0,1,1),\n",
    "    (0,1,1,1,0,1,0),\n",
    "    (1,1,0,1,0,1,1),\n",
    "    (1,1,0,1,1,1,1),\n",
    "    (1,0,1,0,0,1,0),\n",
    "    (1,1,1,1,1,1,1),\n",
    "    (1,1,1,1,0,1,1)\n",
    ")\n",
    "\n",
    "s, n = 2, '1234567890'\n",
    "\n",
    "m = len(n)\n",
    "\n",
    "for i in range(5):\n",
    "  if i in [0,2,4]:\n",
    "    for j in range(m):\n",
    "      now = int(n[j])\n",
    "      if j != 0:\n",
    "        print(' ', end='')\n",
    "      print(' ', end='')\n",
    "      if (i == 0 and pattern[now][0]) or (i == 2 and pattern[now][3]) or (i == 4 and pattern[now][6]):\n",
    "        print('-' * s, end='')\n",
    "      else:\n",
    "        print(' ' * s, end='')\n",
    "      print(' ', end='')\n",
    "    print()\n",
    "  else:\n",
    "    for k in range(s):\n",
    "      for j in range(m):\n",
    "        now = int(n[j])\n",
    "        if j != 0:\n",
    "          print(' ', end='')\n",
    "        if (i == 1 and pattern[now][1]) or (i == 3 and pattern[now][4]):\n",
    "          print('|', end='')\n",
    "        else:\n",
    "          print(' ', end='')\n",
    "        print(' ' * s, end='')\n",
    "\n",
    "        if (i == 1 and pattern[now][2]) or (i == 3 and pattern[now][5]):\n",
    "          print('|', end='')\n",
    "        else:\n",
    "          print(' ', end='')\n",
    "      print()\n",
    "\n"
   ]
  },
  {
   "cell_type": "markdown",
   "metadata": {
    "id": "RyaQYKO5MLgO"
   },
   "source": [
    "## 겉넓이 구하기(16931)"
   ]
  },
  {
   "cell_type": "code",
   "execution_count": 31,
   "metadata": {
    "colab": {
     "base_uri": "https://localhost:8080/"
    },
    "executionInfo": {
     "elapsed": 7495,
     "status": "ok",
     "timestamp": 1623424020697,
     "user": {
      "displayName": "반치영",
      "photoUrl": "",
      "userId": "02232750095748228317"
     },
     "user_tz": -540
    },
    "id": "Rn9BaL2pFJM8",
    "outputId": "dc7e76a4-2471-4287-8eb2-70ad570b20d0"
   },
   "outputs": [
    {
     "name": "stdout",
     "output_type": "stream",
     "text": [
      "3 3\n",
      "1 3 4\n",
      "2 2 3\n",
      "1 2 4\n",
      "60\n"
     ]
    }
   ],
   "source": [
    "n, m = map(int, input().split())\n",
    "arr = [list(map(int, input().split())) for _ in range(n)]\n",
    "\n",
    "up = n * m\n",
    "\n",
    "left = 0\n",
    "# 1 ~ N 에서 맨 앞 블록 높이 + (j번째 블록높이 - (j-1)번째 블록높이)\n",
    "for i in range(n):\n",
    "  for j in range(m):\n",
    "    if j == 0:\n",
    "      left += arr[i][j]\n",
    "    else:\n",
    "      if arr[i][j-1] < arr[i][j]:\n",
    "        left += arr[i][j] - arr[i][j-1]\n",
    "\n",
    "front = 0\n",
    "# 1 ~ M 에서 맨 앞 블록 높이 + (i번째 블록높이 - (i-1)번째 블록높이)\n",
    "for j in range(m):\n",
    "  for i in range(n):\n",
    "    if i == 0:\n",
    "      front += arr[i][j]\n",
    "    else:\n",
    "      if arr[i-1][j] < arr[i][j]:\n",
    "        front += arr[i][j] - arr[i-1][j]\n",
    "    \n",
    "answer = 2 * (up + left + front)\n",
    "print(answer)\n"
   ]
  },
  {
   "cell_type": "code",
   "execution_count": null,
   "metadata": {
    "id": "2wx8HojtkWSE"
   },
   "outputs": [],
   "source": []
  }
 ],
 "metadata": {
  "colab": {
   "authorship_tag": "ABX9TyNwKu94NYJJQVabytHB51/g",
   "collapsed_sections": [],
   "name": "시뮬레이션.ipynb",
   "provenance": []
  },
  "kernelspec": {
   "display_name": "Python 3 (ipykernel)",
   "language": "python",
   "name": "python3"
  },
  "language_info": {
   "codemirror_mode": {
    "name": "ipython",
    "version": 3
   },
   "file_extension": ".py",
   "mimetype": "text/x-python",
   "name": "python",
   "nbconvert_exporter": "python",
   "pygments_lexer": "ipython3",
   "version": "3.9.7"
  }
 },
 "nbformat": 4,
 "nbformat_minor": 1
}
